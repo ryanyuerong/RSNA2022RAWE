{
 "cells": [
  {
   "cell_type": "markdown",
   "id": "29bb259b",
   "metadata": {
    "papermill": {
     "duration": 0.011208,
     "end_time": "2022-11-15T04:46:17.301819",
     "exception": false,
     "start_time": "2022-11-15T04:46:17.290611",
     "status": "completed"
    },
    "tags": []
   },
   "source": [
    "# 1. Setup"
   ]
  },
  {
   "cell_type": "markdown",
   "id": "f6af4e31",
   "metadata": {
    "papermill": {
     "duration": 0.009395,
     "end_time": "2022-11-15T04:46:17.321037",
     "exception": false,
     "start_time": "2022-11-15T04:46:17.311642",
     "status": "completed"
    },
    "tags": []
   },
   "source": [
    "### Libraries"
   ]
  },
  {
   "cell_type": "code",
   "execution_count": null,
   "id": "58910835",
   "metadata": {
    "_kg_hide-output": true,
    "execution": {
     "iopub.execute_input": "2022-11-15T04:46:17.344397Z",
     "iopub.status.busy": "2022-11-15T04:46:17.343525Z",
     "iopub.status.idle": "2022-11-15T04:46:28.434475Z",
     "shell.execute_reply": "2022-11-15T04:46:28.433327Z"
    },
    "papermill": {
     "duration": 11.106398,
     "end_time": "2022-11-15T04:46:28.437028",
     "exception": false,
     "start_time": "2022-11-15T04:46:17.330630",
     "status": "completed"
    },
    "tags": []
   },
   "outputs": [],
   "source": [
    "!pip install -qU ../input/for-pydicom/python_gdcm-3.0.14-cp37-cp37m-manylinux_2_17_x86_64.manylinux2014_x86_64.whl ../input/for-pydicom/pylibjpeg-1.4.0-py3-none-any.whl --find-links frozen_packages --no-index"
   ]
  },
  {
   "cell_type": "code",
   "execution_count": null,
   "id": "b468eb33",
   "metadata": {
    "execution": {
     "iopub.execute_input": "2022-11-15T04:46:28.458681Z",
     "iopub.status.busy": "2022-11-15T04:46:28.458350Z",
     "iopub.status.idle": "2022-11-15T04:46:29.788431Z",
     "shell.execute_reply": "2022-11-15T04:46:29.787135Z"
    },
    "papermill": {
     "duration": 1.34386,
     "end_time": "2022-11-15T04:46:29.791008",
     "exception": false,
     "start_time": "2022-11-15T04:46:28.447148",
     "status": "completed"
    },
    "tags": []
   },
   "outputs": [],
   "source": [
    "import sys\n",
    "import os\n",
    "\n",
    "sys.path.append(\"../input/pytorch-segmentation-models-lib/pretrainedmodels-0.7.4/pretrainedmodels-0.7.4\")\n",
    "sys.path.append(\"../input/segmentationmoodel030/efficientnet_pytorch-0.7.1/efficientnet_pytorch-0.7.1\")\n",
    "sys.path.append(\"../input/timm-pytorch-image-models/pytorch-image-models-master\")\n",
    "sys.path.append(\"../input/segmentationmoodel030/segmentation_models_pytorch-0.3.0/segmentation_models_pytorch-0.3.0\")\n",
    "os.makedirs(\"/root/.cache/torch/hub/checkpoints\",exist_ok=True)\n",
    "!cp ../input/loadmodel/efficientnet-b0-355c32eb.pth /root/.cache/torch/hub/checkpoints/efficientnet-b0-355c32eb.pth"
   ]
  },
  {
   "cell_type": "code",
   "execution_count": null,
   "id": "1194c616",
   "metadata": {
    "_kg_hide-input": true,
    "execution": {
     "iopub.execute_input": "2022-11-15T04:46:29.813219Z",
     "iopub.status.busy": "2022-11-15T04:46:29.812286Z",
     "iopub.status.idle": "2022-11-15T04:46:37.133913Z",
     "shell.execute_reply": "2022-11-15T04:46:37.132827Z"
    },
    "papermill": {
     "duration": 7.335592,
     "end_time": "2022-11-15T04:46:37.136762",
     "exception": false,
     "start_time": "2022-11-15T04:46:29.801170",
     "status": "completed"
    },
    "tags": []
   },
   "outputs": [],
   "source": [
    "import sys\n",
    "sys.path.append(\"../input/timm-pytorch-image-models/pytorch-image-models-master\")\n",
    "import timm\n",
    "import numpy as np\n",
    "import pandas as pd\n",
    "import matplotlib.pyplot as plt\n",
    "%matplotlib inline\n",
    "import matplotlib.patches as patches\n",
    "import seaborn as sns\n",
    "sns.set(style='darkgrid', font_scale=1.6)\n",
    "import cv2\n",
    "import os\n",
    "from os import listdir\n",
    "import re\n",
    "import gc\n",
    "import random\n",
    "import pydicom\n",
    "from pydicom.pixel_data_handlers.util import apply_voi_lut\n",
    "from tqdm.auto import tqdm\n",
    "from pprint import pprint\n",
    "from time import time\n",
    "import itertools\n",
    "from skimage import measure\n",
    "from mpl_toolkits.mplot3d.art3d import Poly3DCollection\n",
    "import nibabel as nib\n",
    "from glob import glob\n",
    "import warnings\n",
    "\n",
    "import zipfile\n",
    "from scipy import ndimage\n",
    "from sklearn.model_selection import train_test_split\n",
    "from joblib import Parallel, delayed\n",
    "from PIL import Image\n",
    "from dipy.denoise.nlmeans import nlmeans\n",
    "from dipy.denoise.noise_estimate import estimate_sigma\n",
    "from skimage import exposure\n",
    "\n",
    "# Pytorch\n",
    "import torch\n",
    "import torch.nn as nn\n",
    "import torch.optim as optim\n",
    "import torch.optim.lr_scheduler as lr_scheduler\n",
    "from torch.utils.data import Dataset, DataLoader\n",
    "import torchvision.transforms as transforms\n",
    "import torch.nn.functional as F\n",
    "import nibabel as nib\n",
    "import pydicom as dicom\n",
    "import gc \n",
    "import segmentation_models_pytorch as smp\n"
   ]
  },
  {
   "cell_type": "code",
   "execution_count": null,
   "id": "84bc636c",
   "metadata": {
    "execution": {
     "iopub.execute_input": "2022-11-15T04:46:37.159233Z",
     "iopub.status.busy": "2022-11-15T04:46:37.158231Z",
     "iopub.status.idle": "2022-11-15T04:46:37.228674Z",
     "shell.execute_reply": "2022-11-15T04:46:37.227688Z"
    },
    "papermill": {
     "duration": 0.083718,
     "end_time": "2022-11-15T04:46:37.230871",
     "exception": false,
     "start_time": "2022-11-15T04:46:37.147153",
     "status": "completed"
    },
    "tags": []
   },
   "outputs": [],
   "source": [
    "class CFG:\n",
    "    seed=42\n",
    "    device='GPU' # ['TPU', 'GPU']\n",
    "    nprocs=1 # [1, 8]\n",
    "    num_workers=2\n",
    "    valid_bs=32\n",
    "    fold_num=5 \n",
    "    \n",
    "    target_cols=[\"C1\", \"C2\", \"C3\", \"C4\", \"C5\", \"C6\", \"C7\", \"OT\"]\n",
    "    num_classes=8 \n",
    "    \n",
    "    normalize_mean=[0.4824, 0.4824, 0.4824] \n",
    "    normalize_std=[0.22, 0.22, 0.22] \n",
    "    \n",
    "    fold_list=[0]\n",
    "\n",
    "    model_arch=\"efficientnet-b0\" \n",
    "    img_size=512 \n",
    "    croped_img_size = 320 # 裁剪后的图片尺寸\n",
    "    weight_path = f\"../input/loadmodel/efficientnet-b0_109_fold0_epoch13.pth\" \n",
    "    \n",
    "# Config device\n",
    "device = torch.device('cuda' if torch.cuda.is_available() else 'cpu')    \n",
    "datadir = \"../input/rsna-2022-cervical-spine-fracture-detection\""
   ]
  },
  {
   "cell_type": "code",
   "execution_count": null,
   "id": "f8cf3aee",
   "metadata": {
    "execution": {
     "iopub.execute_input": "2022-11-15T04:46:37.253348Z",
     "iopub.status.busy": "2022-11-15T04:46:37.251737Z",
     "iopub.status.idle": "2022-11-15T04:46:37.268564Z",
     "shell.execute_reply": "2022-11-15T04:46:37.267678Z"
    },
    "papermill": {
     "duration": 0.029817,
     "end_time": "2022-11-15T04:46:37.270589",
     "exception": false,
     "start_time": "2022-11-15T04:46:37.240772",
     "status": "completed"
    },
    "tags": []
   },
   "outputs": [],
   "source": [
    "def seed_everything(seed=42):\n",
    "    random.seed(seed)\n",
    "    os.environ['PYTHONHASHSEED'] = str(seed)\n",
    "    np.random.seed(seed)\n",
    "    torch.manual_seed(seed)\n",
    "    torch.cuda.manual_seed(seed)\n",
    "    torch.backends.cudnn.deterministic = True\n",
    "    torch.backends.cudnn.benchmark = True \n",
    "\n",
    "seed_everything(CFG.seed)\n",
    "\n",
    "def load_dicom(path):\n",
    "    \"\"\"\n",
    "    This supports loading both regular and compressed JPEG images. \n",
    "    See the first sell with `pip install` commands for the necessary dependencies\n",
    "    \"\"\"\n",
    "    img = dicom.dcmread(path)\n",
    "    img.PhotometricInterpretation = 'YBR_FULL'\n",
    "    data = img.pixel_array\n",
    "    data = data - np.min(data)\n",
    "    if np.max(data) != 0:\n",
    "        data = data / np.max(data)\n",
    "    # data = (data * 255).astype(np.uint8)\n",
    "    return data"
   ]
  },
  {
   "cell_type": "code",
   "execution_count": null,
   "id": "7c8e7295",
   "metadata": {
    "execution": {
     "iopub.execute_input": "2022-11-15T04:46:37.291529Z",
     "iopub.status.busy": "2022-11-15T04:46:37.291196Z",
     "iopub.status.idle": "2022-11-15T04:46:37.354513Z",
     "shell.execute_reply": "2022-11-15T04:46:37.353057Z"
    },
    "papermill": {
     "duration": 0.076552,
     "end_time": "2022-11-15T04:46:37.357027",
     "exception": false,
     "start_time": "2022-11-15T04:46:37.280475",
     "status": "completed"
    },
    "tags": []
   },
   "outputs": [],
   "source": [
    "test_df = pd.read_csv(f'{datadir}/test.csv')\n",
    "\n",
    "debug = False\n",
    "if len(test_df)==3:\n",
    "    debug = True\n",
    "    \n",
    "    # Fix mismatch with test_images folder\n",
    "    test_df = pd.DataFrame(columns = ['row_id','StudyInstanceUID','prediction_type'])\n",
    "    for i in ['1.2.826.0.1.3680043.22327','1.2.826.0.1.3680043.25399','1.2.826.0.1.3680043.5876']:\n",
    "        for j in ['C1','C2','C3','C4','C5','C6','C7','patient_overall']:\n",
    "            test_df = test_df.append({'row_id':i+'_'+j,'StudyInstanceUID':i,'prediction_type':j},ignore_index=True)\n",
    "    \n",
    "    # Sample submission\n",
    "    ss = pd.DataFrame(test_df['row_id'])\n",
    "    ss['fractured'] = 0.5\n",
    "    print(test_df.shape)"
   ]
  },
  {
   "cell_type": "code",
   "execution_count": null,
   "id": "0d98c331",
   "metadata": {
    "execution": {
     "iopub.execute_input": "2022-11-15T04:46:37.378298Z",
     "iopub.status.busy": "2022-11-15T04:46:37.378012Z",
     "iopub.status.idle": "2022-11-15T04:46:37.389360Z",
     "shell.execute_reply": "2022-11-15T04:46:37.388520Z"
    },
    "papermill": {
     "duration": 0.023823,
     "end_time": "2022-11-15T04:46:37.391119",
     "exception": false,
     "start_time": "2022-11-15T04:46:37.367296",
     "status": "completed"
    },
    "tags": []
   },
   "outputs": [],
   "source": [
    "test_study_list = np.unique(test_df[\"StudyInstanceUID\"].values).tolist()\n",
    "test_study_list[:3]"
   ]
  },
  {
   "cell_type": "code",
   "execution_count": null,
   "id": "9851957b",
   "metadata": {
    "execution": {
     "iopub.execute_input": "2022-11-15T04:46:37.412879Z",
     "iopub.status.busy": "2022-11-15T04:46:37.412617Z",
     "iopub.status.idle": "2022-11-15T04:46:37.416775Z",
     "shell.execute_reply": "2022-11-15T04:46:37.415765Z"
    },
    "papermill": {
     "duration": 0.017758,
     "end_time": "2022-11-15T04:46:37.419103",
     "exception": false,
     "start_time": "2022-11-15T04:46:37.401345",
     "status": "completed"
    },
    "tags": []
   },
   "outputs": [],
   "source": [
    "# study_id_list = []\n",
    "# slice_num_list = []\n",
    "# for study_name in test_study_list:\n",
    "#     slice_file_list = os.listdir(f\"{datadir}/test_images/{study_name}\")\n",
    "#     slice_cnt = len(slice_file_list)\n",
    "    \n",
    "#     study_id_list.extend([study_name]*slice_cnt)\n",
    "#     slice_num_list.extend([int(x.replace(\".dcm\",\"\")) for x in slice_file_list])\n",
    "# print(len(study_id_list), len(slice_num_list))\n",
    "\n",
    "# all_slice_df = pd.DataFrame({\"StudyInstanceUID\":study_id_list, \"slice_num\":slice_num_list})\n",
    "# all_slice_df = all_slice_df.sort_values([\"StudyInstanceUID\", \"slice_num\"]).reset_index(drop=True)\n",
    "# all_slice_df.to_csv(f\"./all_slice_df.csv\", index=False)\n",
    "# print(all_slice_df.shape)\n",
    "# all_slice_df.head(3)"
   ]
  },
  {
   "cell_type": "code",
   "execution_count": null,
   "id": "b8bd5bb6",
   "metadata": {
    "execution": {
     "iopub.execute_input": "2022-11-15T04:46:37.439892Z",
     "iopub.status.busy": "2022-11-15T04:46:37.439638Z",
     "iopub.status.idle": "2022-11-15T04:46:37.559398Z",
     "shell.execute_reply": "2022-11-15T04:46:37.558526Z"
    },
    "papermill": {
     "duration": 0.132564,
     "end_time": "2022-11-15T04:46:37.561495",
     "exception": false,
     "start_time": "2022-11-15T04:46:37.428931",
     "status": "completed"
    },
    "tags": []
   },
   "outputs": [],
   "source": [
    "all_slice_list = []\n",
    "for file_name in test_study_list:\n",
    "    image_path_list = glob(f\"{datadir}/test_images/{file_name}/*\")\n",
    "    image_path_list = sorted(image_path_list, key=lambda x:int(x.split(\"/\")[-1].replace(\".dcm\",\"\")))\n",
    "    for path_idx in range(len(image_path_list)):\n",
    "        path1 = \"nofile\" if path_idx-1 < 0 else image_path_list[path_idx-1].replace(f\"{datadir}/test_images/\", \"\")\n",
    "        path2 = image_path_list[path_idx].replace(f\"{datadir}/test_images/\", \"\")\n",
    "        path3 = \"nofile\" if path_idx+1 >= len(image_path_list) else image_path_list[path_idx+1].replace(f\"{datadir}/test_images/\", \"\")\n",
    "        slice_num = int(path2.split(\"/\")[-1].replace(\".dcm\",\"\"))\n",
    "        all_slice_list.append([f\"{file_name}_{slice_num}\", file_name, slice_num, path1, path2, path3])"
   ]
  },
  {
   "cell_type": "code",
   "execution_count": null,
   "id": "c0a7398a",
   "metadata": {
    "execution": {
     "iopub.execute_input": "2022-11-15T04:46:37.583973Z",
     "iopub.status.busy": "2022-11-15T04:46:37.582371Z",
     "iopub.status.idle": "2022-11-15T04:46:37.603276Z",
     "shell.execute_reply": "2022-11-15T04:46:37.602280Z"
    },
    "papermill": {
     "duration": 0.034001,
     "end_time": "2022-11-15T04:46:37.605575",
     "exception": false,
     "start_time": "2022-11-15T04:46:37.571574",
     "status": "completed"
    },
    "tags": []
   },
   "outputs": [],
   "source": [
    "slice_df = pd.DataFrame(all_slice_list, columns=[\"id\", \"StudyInstanceUID\", \"slice_num\", \"path1\", \"path2\", \"path3\"])\n",
    "slice_df"
   ]
  },
  {
   "cell_type": "markdown",
   "id": "4493b707",
   "metadata": {
    "papermill": {
     "duration": 0.010032,
     "end_time": "2022-11-15T04:46:37.625818",
     "exception": false,
     "start_time": "2022-11-15T04:46:37.615786",
     "status": "completed"
    },
    "tags": []
   },
   "source": [
    "# DataSet"
   ]
  },
  {
   "cell_type": "code",
   "execution_count": null,
   "id": "b7255a78",
   "metadata": {
    "execution": {
     "iopub.execute_input": "2022-11-15T04:46:37.647212Z",
     "iopub.status.busy": "2022-11-15T04:46:37.646954Z",
     "iopub.status.idle": "2022-11-15T04:46:37.656687Z",
     "shell.execute_reply": "2022-11-15T04:46:37.655769Z"
    },
    "papermill": {
     "duration": 0.022797,
     "end_time": "2022-11-15T04:46:37.658778",
     "exception": false,
     "start_time": "2022-11-15T04:46:37.635981",
     "status": "completed"
    },
    "tags": []
   },
   "outputs": [],
   "source": [
    "# 构造 dataset类\n",
    "class VoxelDataset(Dataset):\n",
    "    def __init__(self, df, transform=None):\n",
    "        self.df = df\n",
    "        self.transform = transform\n",
    "        \n",
    "    def __len__(self):\n",
    "        return len(self.df)\n",
    "\n",
    "    def __getitem__(self, idx):\n",
    "        row = self.df.iloc[idx]\n",
    "\n",
    "        im2 = load_dicom(f\"{datadir}/test_images/{row['path2']}\")   # 512*512  \n",
    "        im2h = im2.shape[0]\n",
    "        im2w = im2.shape[1]\n",
    "\n",
    "        im1 = load_dicom(f\"{datadir}/test_images/{row['path1']}\") if row['path1'] != \"nofile\" else np.zeros((im2h, im2w))  # 512*512                                                       \n",
    "        im3 = load_dicom(f\"{datadir}/test_images/{row['path3']}\") if row['path3'] != \"nofile\" else np.zeros((im2h, im2w))  # 512*512  \n",
    "\n",
    "        if im1.shape !=  (im2h, im2w):\n",
    "            im1 = cv2.resize(im1, (im2w, im2h))\n",
    "        if im3.shape !=  (im2h, im2w):\n",
    "            im3 = cv2.resize(im3, (im2w, im2h)) \n",
    "        image_list = [im1, im2, im3]\n",
    "        image = np.stack(image_list, axis=2) # 512*512*3; 0-1\n",
    "\n",
    "        # transform\n",
    "        if self.transform:\n",
    "            augmented = self.transform(image=image)\n",
    "            image = augmented['image']\n",
    "        \n",
    "        # image = image/255.0\n",
    "        image = np.transpose(image, (2, 0, 1)) # 3*img_size*img_size; 0-1\n",
    "        return torch.from_numpy(image), row['StudyInstanceUID'], row['slice_num'] "
   ]
  },
  {
   "cell_type": "code",
   "execution_count": null,
   "id": "d556ba71",
   "metadata": {
    "execution": {
     "iopub.execute_input": "2022-11-15T04:46:37.680348Z",
     "iopub.status.busy": "2022-11-15T04:46:37.680026Z",
     "iopub.status.idle": "2022-11-15T04:46:38.521668Z",
     "shell.execute_reply": "2022-11-15T04:46:38.520714Z"
    },
    "papermill": {
     "duration": 0.855098,
     "end_time": "2022-11-15T04:46:38.524133",
     "exception": false,
     "start_time": "2022-11-15T04:46:37.669035",
     "status": "completed"
    },
    "tags": []
   },
   "outputs": [],
   "source": [
    "from albumentations import CenterCrop, Resize, RandomCrop, GaussianBlur, JpegCompression, Downscale, ElasticTransform, Compose\n",
    "import albumentations\n",
    "from albumentations.pytorch import ToTensorV2\n",
    "\n",
    "def get_transforms(data):\n",
    "    if data == 'valid':\n",
    "        return Compose([\n",
    "            Resize(CFG.img_size, CFG.img_size, interpolation=cv2.INTER_NEAREST),\n",
    "        ])"
   ]
  },
  {
   "cell_type": "code",
   "execution_count": null,
   "id": "390ae92f",
   "metadata": {
    "execution": {
     "iopub.execute_input": "2022-11-15T04:46:38.546643Z",
     "iopub.status.busy": "2022-11-15T04:46:38.545810Z",
     "iopub.status.idle": "2022-11-15T04:46:40.677412Z",
     "shell.execute_reply": "2022-11-15T04:46:40.676311Z"
    },
    "papermill": {
     "duration": 2.152162,
     "end_time": "2022-11-15T04:46:40.686811",
     "exception": false,
     "start_time": "2022-11-15T04:46:38.534649",
     "status": "completed"
    },
    "tags": []
   },
   "outputs": [],
   "source": [
    "if debug:\n",
    "    from pylab import rcParams\n",
    "    dataset_show = VoxelDataset(\n",
    "        slice_df, \n",
    "        get_transforms(\"valid\") # None, get_transforms(\"train\")\n",
    "        )\n",
    "    rcParams['figure.figsize'] = 30,20\n",
    "    for i in range(2):\n",
    "        f, axarr = plt.subplots(1,3)\n",
    "        idx = np.random.randint(0, len(dataset_show))\n",
    "        img, file_name, n_slice= dataset_show[idx]\n",
    "        # axarr[p].imshow(img) # transform=None\n",
    "        axarr[0].imshow(img[0]); plt.axis('OFF');\n",
    "        axarr[1].imshow(img[1]); plt.axis('OFF');\n",
    "        axarr[2].imshow(img[2]); plt.axis('OFF');"
   ]
  },
  {
   "cell_type": "markdown",
   "id": "011d38e3",
   "metadata": {
    "papermill": {
     "duration": 0.03502,
     "end_time": "2022-11-15T04:46:40.758373",
     "exception": false,
     "start_time": "2022-11-15T04:46:40.723353",
     "status": "completed"
    },
    "tags": []
   },
   "source": [
    "# Model"
   ]
  },
  {
   "cell_type": "code",
   "execution_count": null,
   "id": "e84cfe8e",
   "metadata": {
    "execution": {
     "iopub.execute_input": "2022-11-15T04:46:40.828039Z",
     "iopub.status.busy": "2022-11-15T04:46:40.827288Z",
     "iopub.status.idle": "2022-11-15T04:46:40.833961Z",
     "shell.execute_reply": "2022-11-15T04:46:40.833326Z"
    },
    "papermill": {
     "duration": 0.044067,
     "end_time": "2022-11-15T04:46:40.835761",
     "exception": false,
     "start_time": "2022-11-15T04:46:40.791694",
     "status": "completed"
    },
    "tags": []
   },
   "outputs": [],
   "source": [
    "import segmentation_models_pytorch as smp\n",
    "\n",
    "def build_model():\n",
    "    model = smp.Unet(\n",
    "        encoder_name=CFG.model_arch,    # choose encoder, e.g. mobilenet_v2 or efficientnet-b7\n",
    "        encoder_weights=\"imagenet\",     # use `imagenet` pre-trained weights for encoder initialization\n",
    "        in_channels=3,                  # model input channels (1 for gray-scale images, 3 for RGB, etc.)\n",
    "        classes=CFG.num_classes,        # model output channels (number of classes in your dataset)\n",
    "        activation=None,\n",
    "    )\n",
    "    model.to(device)\n",
    "    return model\n",
    "\n",
    "def load_model(path):\n",
    "    model = build_model()\n",
    "    model.load_state_dict(torch.load(path)[\"model\"])\n",
    "    model.eval()\n",
    "    return model"
   ]
  },
  {
   "cell_type": "code",
   "execution_count": null,
   "id": "c9529e80",
   "metadata": {
    "execution": {
     "iopub.execute_input": "2022-11-15T04:46:40.904683Z",
     "iopub.status.busy": "2022-11-15T04:46:40.904332Z",
     "iopub.status.idle": "2022-11-15T04:46:40.922089Z",
     "shell.execute_reply": "2022-11-15T04:46:40.921149Z"
    },
    "papermill": {
     "duration": 0.055375,
     "end_time": "2022-11-15T04:46:40.924097",
     "exception": false,
     "start_time": "2022-11-15T04:46:40.868722",
     "status": "completed"
    },
    "tags": []
   },
   "outputs": [],
   "source": [
    "slice_class_list = []\n",
    "voxel_crop_list = []\n",
    "def crop_voxel(voxel_mask, last_f_name):\n",
    "    area_thr = 10\n",
    "    # x\n",
    "    x_list = []\n",
    "    length = voxel_mask.shape[0]\n",
    "    for i in range(length):\n",
    "        if torch.count_nonzero(voxel_mask[i]).item() >= area_thr:\n",
    "            x_list.append(i)\n",
    "            break\n",
    "    else:\n",
    "        x_list.append(0)\n",
    "\n",
    "    for i in range(length-1, -1, -1):\n",
    "        if torch.count_nonzero(voxel_mask[i]).item() >= area_thr:\n",
    "            x_list.append(i)\n",
    "            break\n",
    "    else:\n",
    "        x_list.append(length-1)\n",
    "\n",
    "    # y\n",
    "    y_list = []\n",
    "    length = voxel_mask.shape[1]\n",
    "    for i in range(length):\n",
    "        if torch.count_nonzero(voxel_mask[:, i]).item() >= area_thr:\n",
    "            y_list.append(i)\n",
    "            break\n",
    "    else:\n",
    "        y_list.append(0)\n",
    "\n",
    "    for i in range(length-1, -1, -1):\n",
    "        if torch.count_nonzero(voxel_mask[:, i]).item() >= area_thr:\n",
    "            y_list.append(i)\n",
    "            break\n",
    "    else:\n",
    "        y_list.append(length-1)\n",
    "\n",
    "    # z\n",
    "    z_list = []\n",
    "    length = voxel_mask.shape[2]\n",
    "    for i in range(length):\n",
    "        if torch.count_nonzero(voxel_mask[:, :, i]).item() >= area_thr:\n",
    "            z_list.append(i)\n",
    "            break\n",
    "    else:\n",
    "        z_list.append(0)\n",
    "\n",
    "    for i in range(length-1, -1, -1):\n",
    "        if torch.count_nonzero(voxel_mask[:, :, i]).item() >= area_thr:\n",
    "            z_list.append(i)\n",
    "            break\n",
    "    else:\n",
    "        z_list.append(length-1)\n",
    "    # croped_voxel = voxels[x_list[0]:x_list[1]+1, y_list[0]:y_list[1]+1, z_list[0]:z_list[1]+1]\n",
    "    try:\n",
    "        croped_voxel_mask = voxel_mask[x_list[0]:x_list[1]+1, y_list[0]:y_list[1]+1, z_list[0]:z_list[1]+1]\n",
    "    except:\n",
    "        print(f\"last_f_name:{last_f_name}, voxel_mask.shape:{voxel_mask.shape}, x_list:{x_list}, y_list:{y_list}, z_list:{z_list}\")\n",
    "        x_list = [0, voxel_mask.shape[0]-1]; y_list = [0, voxel_mask.shape[1]-1]; z_list = [0, voxel_mask.shape[2]-1]\n",
    "        croped_voxel_mask = voxel_mask\n",
    "    voxel_crop_list.append([last_f_name, voxel_mask.shape[1], x_list[0], x_list[1]+1, y_list[0], y_list[1]+1, z_list[0], z_list[1]+1])\n",
    "\n",
    "    # croped_voxel = croped_voxel.to('cpu').numpy() # bs*img_size*img_size; 0-8 classes\n",
    "    croped_voxel_mask = croped_voxel_mask.to('cpu').numpy().astype(np.uint8) # bs*img_size*img_size; 0-8 classes\n",
    "    for x_idx in range(croped_voxel_mask.shape[0]):\n",
    "        slice_mask = croped_voxel_mask[x_idx]\n",
    "\n",
    "        unique, counts = np.unique(slice_mask, return_counts=True)\n",
    "        if len(unique) == 1 and unique[0] == 0:\n",
    "            slice_class_list.append([last_f_name, x_idx, x_idx+x_list[0], 0])\n",
    "        elif unique[0] == 0:\n",
    "            unique = unique[1:]\n",
    "            counts = counts[1:]\n",
    "            slice_class_list.append([last_f_name, x_idx, x_idx+x_list[0]+1, unique[counts.argmax()]])\n",
    "        else:\n",
    "            slice_class_list.append([last_f_name, x_idx, x_idx+x_list[0]+1, unique[counts.argmax()]])\n",
    "        \n",
    "    return None, croped_voxel_mask"
   ]
  },
  {
   "cell_type": "code",
   "execution_count": null,
   "id": "7098ab1a",
   "metadata": {
    "execution": {
     "iopub.execute_input": "2022-11-15T04:46:40.995223Z",
     "iopub.status.busy": "2022-11-15T04:46:40.993303Z",
     "iopub.status.idle": "2022-11-15T04:46:44.657558Z",
     "shell.execute_reply": "2022-11-15T04:46:44.656565Z"
    },
    "papermill": {
     "duration": 3.702128,
     "end_time": "2022-11-15T04:46:44.659950",
     "exception": false,
     "start_time": "2022-11-15T04:46:40.957822",
     "status": "completed"
    },
    "tags": []
   },
   "outputs": [],
   "source": [
    "test_dataset = VoxelDataset(slice_df, transform=get_transforms(\"valid\")) # get_transforms(\"valid\")\n",
    "test_loader = DataLoader(test_dataset, batch_size=CFG.valid_bs, shuffle=False, num_workers=CFG.num_workers, pin_memory=True, drop_last=False)\n",
    "\n",
    "model = load_model(CFG.weight_path)\n",
    "model.eval()\n",
    "last_f_name = \"\"\n",
    "voxel_mask = []\n",
    "# voxels = []"
   ]
  },
  {
   "cell_type": "code",
   "execution_count": null,
   "id": "9f8c85e0",
   "metadata": {
    "execution": {
     "iopub.execute_input": "2022-11-15T04:46:44.729368Z",
     "iopub.status.busy": "2022-11-15T04:46:44.728998Z",
     "iopub.status.idle": "2022-11-15T04:47:37.495354Z",
     "shell.execute_reply": "2022-11-15T04:47:37.484819Z"
    },
    "papermill": {
     "duration": 52.804783,
     "end_time": "2022-11-15T04:47:37.498584",
     "exception": false,
     "start_time": "2022-11-15T04:46:44.693801",
     "status": "completed"
    },
    "tags": []
   },
   "outputs": [],
   "source": [
    "for step, (images, file_names, n_slice) in tqdm(enumerate(test_loader),total=len(test_loader)):\n",
    "    images = images.to(device, dtype=torch.float) # bs*3*image_size*image_size\n",
    "    batch_size = images.size(0)\n",
    "    with torch.no_grad():\n",
    "        y_pred = model(images) # [B, 8, H, W]\n",
    "    y_pred = y_pred.sigmoid()\n",
    "    slice_mask_max = torch.max(y_pred, 1) # bs*img_size*img_size\n",
    "    slice_mask = torch.where((slice_mask_max.values)>0.5, slice_mask_max.indices+1, 0) # bs*img_size*img_size; 0-8 classes\n",
    "    slice_mask = torch.where(slice_mask==8,0,slice_mask).type(torch.uint8)\n",
    "    # slice_mask = slice_mask.to('cpu').numpy().astype(np.uint8) # bs*img_size*img_size; 0-8 classes\n",
    "    # slice_image = images[:, 1, :, :] # bs*img_size*img_size\n",
    "\n",
    "    start_idx = 0\n",
    "    for bs_idx in range(batch_size):\n",
    "        f_name = file_names[bs_idx]\n",
    "        if f_name != last_f_name:\n",
    "            voxel_mask.append(slice_mask[start_idx:bs_idx])\n",
    "            # voxels.append(slice_image[start_idx:bs_idx])\n",
    "            voxel_mask = torch.cat(voxel_mask, dim=0) # n_slice*img_size*img_size; 0-8 classes\n",
    "            # voxels = torch.cat(voxels, dim=0) # n_slice*img_size*img_size\n",
    "            if len(voxel_mask) > 0:\n",
    "                croped_voxel, croped_voxel_mask = crop_voxel(voxel_mask, last_f_name)\n",
    "            last_f_name = f_name\n",
    "            start_idx = bs_idx\n",
    "            voxel_mask = []\n",
    "            # voxels = []\n",
    "        elif bs_idx == batch_size-1:\n",
    "            voxel_mask.append(slice_mask[start_idx:batch_size])\n",
    "            # voxels.append(slice_image[start_idx:batch_size])\n",
    "voxel_mask = torch.cat(voxel_mask, dim=0)\n",
    "if len(voxel_mask) > 0:\n",
    "    croped_voxel, croped_voxel_mask = crop_voxel(voxel_mask, last_f_name)"
   ]
  },
  {
   "cell_type": "code",
   "execution_count": null,
   "id": "e8c91317",
   "metadata": {
    "execution": {
     "iopub.execute_input": "2022-11-15T04:47:37.605969Z",
     "iopub.status.busy": "2022-11-15T04:47:37.605426Z",
     "iopub.status.idle": "2022-11-15T04:47:37.638344Z",
     "shell.execute_reply": "2022-11-15T04:47:37.636515Z"
    },
    "papermill": {
     "duration": 0.088776,
     "end_time": "2022-11-15T04:47:37.640986",
     "exception": false,
     "start_time": "2022-11-15T04:47:37.552210",
     "status": "completed"
    },
    "tags": []
   },
   "outputs": [],
   "source": [
    "voxel_crop_df = pd.DataFrame(voxel_crop_list, columns=[\"StudyInstanceUID\", \"before_image_size\", \"x0\", \"x1\", \"y0\", \"y1\", \"z0\", \"z1\"]).sort_values(by=[\"StudyInstanceUID\"])\n",
    "voxel_crop_df.to_csv(f\"voxel_crop.csv\", index=False)\n",
    "print(voxel_crop_df.shape)\n",
    "voxel_crop_df.head(3)"
   ]
  },
  {
   "cell_type": "code",
   "execution_count": null,
   "id": "a5956c65",
   "metadata": {
    "execution": {
     "iopub.execute_input": "2022-11-15T04:47:37.748312Z",
     "iopub.status.busy": "2022-11-15T04:47:37.747776Z",
     "iopub.status.idle": "2022-11-15T04:47:37.779496Z",
     "shell.execute_reply": "2022-11-15T04:47:37.778629Z"
    },
    "papermill": {
     "duration": 0.088188,
     "end_time": "2022-11-15T04:47:37.781941",
     "exception": false,
     "start_time": "2022-11-15T04:47:37.693753",
     "status": "completed"
    },
    "tags": []
   },
   "outputs": [],
   "source": [
    "slice_class_df = pd.DataFrame(slice_class_list, columns=[\"StudyInstanceUID\", \"new_slice_num\", \"old_slice_num\", \"vertebra_class\"]).sort_values(by=[\"StudyInstanceUID\", \"new_slice_num\"])\n",
    "slice_class_df.to_csv(f\"slice_class.csv\", index=False)\n",
    "print(slice_class_df.shape)\n",
    "slice_class_df.head(3)"
   ]
  },
  {
   "cell_type": "code",
   "execution_count": null,
   "id": "86840eb6",
   "metadata": {
    "execution": {
     "iopub.execute_input": "2022-11-15T04:47:37.886656Z",
     "iopub.status.busy": "2022-11-15T04:47:37.886303Z",
     "iopub.status.idle": "2022-11-15T04:47:37.901362Z",
     "shell.execute_reply": "2022-11-15T04:47:37.900447Z"
    },
    "papermill": {
     "duration": 0.069153,
     "end_time": "2022-11-15T04:47:37.903282",
     "exception": false,
     "start_time": "2022-11-15T04:47:37.834129",
     "status": "completed"
    },
    "tags": []
   },
   "outputs": [],
   "source": [
    "slice_df"
   ]
  },
  {
   "cell_type": "code",
   "execution_count": null,
   "id": "740369bb",
   "metadata": {
    "execution": {
     "iopub.execute_input": "2022-11-15T04:47:37.974557Z",
     "iopub.status.busy": "2022-11-15T04:47:37.974181Z",
     "iopub.status.idle": "2022-11-15T04:47:38.028011Z",
     "shell.execute_reply": "2022-11-15T04:47:38.026943Z"
    },
    "papermill": {
     "duration": 0.092351,
     "end_time": "2022-11-15T04:47:38.030042",
     "exception": false,
     "start_time": "2022-11-15T04:47:37.937691",
     "status": "completed"
    },
    "tags": []
   },
   "outputs": [],
   "source": [
    "new_df = []\n",
    "for idx, study_id, _, x0, x1, _, _, _, _, in tqdm(voxel_crop_df.itertuples(), total=len(voxel_crop_df)):\n",
    "    one_study = slice_df[slice_df[\"StudyInstanceUID\"] == study_id][[\"id\", \"StudyInstanceUID\", \"slice_num\"]].reset_index(drop=True)\n",
    "    new_df.append(one_study[x0:x1])\n",
    "new_df = pd.concat(new_df, axis=0).reset_index(drop=True)\n",
    "print(new_df.shape)\n",
    "new_df.head(3)"
   ]
  },
  {
   "cell_type": "code",
   "execution_count": null,
   "id": "df9bada6",
   "metadata": {
    "execution": {
     "iopub.execute_input": "2022-11-15T04:47:38.103347Z",
     "iopub.status.busy": "2022-11-15T04:47:38.102371Z",
     "iopub.status.idle": "2022-11-15T04:47:38.124112Z",
     "shell.execute_reply": "2022-11-15T04:47:38.123247Z"
    },
    "papermill": {
     "duration": 0.06074,
     "end_time": "2022-11-15T04:47:38.126331",
     "exception": false,
     "start_time": "2022-11-15T04:47:38.065591",
     "status": "completed"
    },
    "tags": []
   },
   "outputs": [],
   "source": [
    "new_df = new_df.merge(voxel_crop_df, on=\"StudyInstanceUID\", how=\"left\") # merge study_crop_df\n",
    "print(new_df.shape)\n",
    "display(new_df.head(3))\n",
    "assert len(slice_class_df) == len(new_df)"
   ]
  },
  {
   "cell_type": "code",
   "execution_count": null,
   "id": "2494162b",
   "metadata": {
    "execution": {
     "iopub.execute_input": "2022-11-15T04:47:38.200000Z",
     "iopub.status.busy": "2022-11-15T04:47:38.199591Z",
     "iopub.status.idle": "2022-11-15T04:47:38.217968Z",
     "shell.execute_reply": "2022-11-15T04:47:38.217072Z"
    },
    "papermill": {
     "duration": 0.058809,
     "end_time": "2022-11-15T04:47:38.219980",
     "exception": false,
     "start_time": "2022-11-15T04:47:38.161171",
     "status": "completed"
    },
    "tags": []
   },
   "outputs": [],
   "source": [
    "new_slice_df = pd.concat([new_df, slice_class_df[[\"new_slice_num\", \"vertebra_class\"]]], axis=1)\n",
    "print(new_slice_df.shape)\n",
    "new_slice_df.head(3)"
   ]
  },
  {
   "cell_type": "code",
   "execution_count": null,
   "id": "ea8ec226",
   "metadata": {
    "execution": {
     "iopub.execute_input": "2022-11-15T04:47:38.305501Z",
     "iopub.status.busy": "2022-11-15T04:47:38.304624Z",
     "iopub.status.idle": "2022-11-15T04:47:38.368569Z",
     "shell.execute_reply": "2022-11-15T04:47:38.367531Z"
    },
    "papermill": {
     "duration": 0.117096,
     "end_time": "2022-11-15T04:47:38.371958",
     "exception": false,
     "start_time": "2022-11-15T04:47:38.254862",
     "status": "completed"
    },
    "tags": []
   },
   "outputs": [],
   "source": [
    "sample_num = 24\n",
    "vertebrae_df_list = []\n",
    "for study_id in tqdm(np.unique(new_slice_df[\"StudyInstanceUID\"])):\n",
    "    one_study = new_slice_df[new_slice_df[\"StudyInstanceUID\"] == study_id].reset_index(drop=True)\n",
    "    for cid in range(1, 8):\n",
    "        one_study_cid = one_study[one_study[\"vertebra_class\"] == cid].reset_index(drop=True)\n",
    "        if len(one_study_cid) >= sample_num:\n",
    "            sample_index = np.linspace(0, len(one_study_cid)-1, sample_num, dtype=int)\n",
    "            one_study_cid = one_study_cid.iloc[sample_index].reset_index(drop=True)\n",
    "        if len(one_study_cid) < 5:\n",
    "            continue\n",
    "        slice_num_list = one_study_cid[\"slice_num\"].values.tolist()\n",
    "        arow = one_study_cid.iloc[0]\n",
    "        vertebrae_df_list.append([f\"{study_id}_{cid}\", study_id, cid, slice_num_list, arow[\"before_image_size\"], \\\n",
    "            arow[\"x0\"], arow[\"x1\"], arow[\"y0\"], arow[\"y1\"], arow[\"z0\"], arow[\"z1\"]])"
   ]
  },
  {
   "cell_type": "code",
   "execution_count": null,
   "id": "3d677d0f",
   "metadata": {
    "execution": {
     "iopub.execute_input": "2022-11-15T04:47:38.445211Z",
     "iopub.status.busy": "2022-11-15T04:47:38.444931Z",
     "iopub.status.idle": "2022-11-15T04:47:38.462302Z",
     "shell.execute_reply": "2022-11-15T04:47:38.460804Z"
    },
    "papermill": {
     "duration": 0.057121,
     "end_time": "2022-11-15T04:47:38.464684",
     "exception": false,
     "start_time": "2022-11-15T04:47:38.407563",
     "status": "completed"
    },
    "tags": []
   },
   "outputs": [],
   "source": [
    "vertebrae_df = pd.DataFrame(vertebrae_df_list, columns=[\"study_cid\", \"StudyInstanceUID\", \"cid\", \"slice_num_list\", \\\n",
    "    \"before_image_size\", \"x0\", \"x1\", \"y0\", \"y1\", \"z0\", \"z1\" ])\n",
    "vertebrae_df.to_pickle(f\"vertebrae_df.pkl\")    \n",
    "print(vertebrae_df.shape) #\n",
    "vertebrae_df.head(3)"
   ]
  },
  {
   "cell_type": "markdown",
   "id": "d18466c5",
   "metadata": {
    "papermill": {
     "duration": 0.035372,
     "end_time": "2022-11-15T04:47:38.535050",
     "exception": false,
     "start_time": "2022-11-15T04:47:38.499678",
     "status": "completed"
    },
    "tags": []
   },
   "source": [
    "# Inference Class"
   ]
  },
  {
   "cell_type": "code",
   "execution_count": null,
   "id": "d3f758a8",
   "metadata": {
    "execution": {
     "iopub.execute_input": "2022-11-15T04:47:38.608280Z",
     "iopub.status.busy": "2022-11-15T04:47:38.606622Z",
     "iopub.status.idle": "2022-11-15T04:47:38.613420Z",
     "shell.execute_reply": "2022-11-15T04:47:38.612614Z"
    },
    "papermill": {
     "duration": 0.045493,
     "end_time": "2022-11-15T04:47:38.615409",
     "exception": false,
     "start_time": "2022-11-15T04:47:38.569916",
     "status": "completed"
    },
    "tags": []
   },
   "outputs": [],
   "source": [
    "train_df = vertebrae_df\n",
    "CFG.img_size = 384\n",
    "CFG.valid_bs = 14\n",
    "CFG.seq_len = 24\n",
    "CFG.dropout=0.1\n",
    "CFG.gpu_parallel=False\n",
    "# tf_efficientnetv2_s, resnest50d\n",
    "CFG.archs_list=[\n",
    "    \"tf_efficientnetv2_s\",\n",
    "    \"tf_efficientnetv2_s\",\n",
    "    \"resnest50d\",\n",
    "    \"resnest50d\",\n",
    "] \n",
    "CFG.weights_list = [\n",
    "    \"../input/loadmodel/tf_efficientnetv2_s_405_fold0_epoch8.pth\",\n",
    "    \"../input/loadmodel/tf_efficientnetv2_s_405_fold1_epoch9.pth\",\n",
    "    \"../input/loadmodel/tf_efficientnetv2_s_405_fold2_epoch8.pth\",\n",
    "    \n",
    "    \"../input/loadmodel/resnest50d_406_fold0_epoch13.pth\",\n",
    "    \"../input/loadmodel/resnest50d_406_fold1_epoch15.pth\",\n",
    "    \"../input/loadmodel/tf_efficientnetv2_s_405_fold2_epoch8.pth\",\n",
    "]\n",
    "CFG.fillna_number = 0.10\n",
    "\n",
    "\n",
    "device = torch.device('cuda' if torch.cuda.is_available() else 'cpu')"
   ]
  },
  {
   "cell_type": "code",
   "execution_count": null,
   "id": "3833b7d4",
   "metadata": {
    "execution": {
     "iopub.execute_input": "2022-11-15T04:47:38.689721Z",
     "iopub.status.busy": "2022-11-15T04:47:38.688095Z",
     "iopub.status.idle": "2022-11-15T04:47:38.696223Z",
     "shell.execute_reply": "2022-11-15T04:47:38.695184Z"
    },
    "jupyter": {
     "source_hidden": true
    },
    "papermill": {
     "duration": 0.047373,
     "end_time": "2022-11-15T04:47:38.698354",
     "exception": false,
     "start_time": "2022-11-15T04:47:38.650981",
     "status": "completed"
    },
    "tags": []
   },
   "outputs": [],
   "source": [
    "def seed_everything(seed=42):\n",
    "    random.seed(seed)\n",
    "    os.environ['PYTHONHASHSEED'] = str(seed)\n",
    "    np.random.seed(seed)\n",
    "    torch.manual_seed(seed)\n",
    "    torch.cuda.manual_seed(seed)\n",
    "    torch.backends.cudnn.deterministic = True\n",
    "    torch.backends.cudnn.benchmark = True \n",
    "\n",
    "seed_everything(CFG.seed)\n",
    "\n",
    "def load_dicom(path):\n",
    "    \"\"\"\n",
    "    This supports loading both regular and compressed JPEG images. \n",
    "    See the first sell with `pip install` commands for the necessary dependencies\n",
    "    \"\"\"\n",
    "    img = dicom.dcmread(path)\n",
    "    img.PhotometricInterpretation = 'YBR_FULL'\n",
    "    data = img.pixel_array\n",
    "    data = data - np.min(data)\n",
    "    if np.max(data) != 0:\n",
    "        data = data / np.max(data)\n",
    "    # data = (data * 255).astype(np.uint8)\n",
    "    return data"
   ]
  },
  {
   "cell_type": "code",
   "execution_count": null,
   "id": "e64b86ab",
   "metadata": {
    "execution": {
     "iopub.execute_input": "2022-11-15T04:47:38.773023Z",
     "iopub.status.busy": "2022-11-15T04:47:38.771076Z",
     "iopub.status.idle": "2022-11-15T04:47:38.782919Z",
     "shell.execute_reply": "2022-11-15T04:47:38.782020Z"
    },
    "papermill": {
     "duration": 0.051517,
     "end_time": "2022-11-15T04:47:38.784964",
     "exception": false,
     "start_time": "2022-11-15T04:47:38.733447",
     "status": "completed"
    },
    "tags": []
   },
   "outputs": [],
   "source": [
    "class TestDataset(Dataset):\n",
    "    def __init__(self, df, transform=None):\n",
    "        self.df = df\n",
    "        self.transform = transform\n",
    "        \n",
    "    def __len__(self):\n",
    "        return len(self.df)\n",
    "\n",
    "    def __getitem__(self, idx):\n",
    "        row = self.df.iloc[idx]\n",
    "        study_id = row[\"StudyInstanceUID\"]\n",
    "        slice_num_list = row['slice_num_list']\n",
    "        before_image_size = row[\"before_image_size\"]\n",
    "        y0 = row[\"y0\"]; y1 = row[\"y1\"];\n",
    "        z0 = row[\"z0\"]; z1 = row[\"z1\"];\n",
    "\n",
    "        slice_list = []\n",
    "        for s_num in slice_num_list:\n",
    "            path = f\"{datadir}/test_images/{study_id}/{s_num}.dcm\"\n",
    "            img = load_dicom(path)\n",
    "            if len(slice_list) == 0:\n",
    "                imgh = img.shape[0]\n",
    "                imgw = img.shape[1]\n",
    "            elif img.shape != (imgh, imgw):\n",
    "                img = cv2.resize(img,(imgh,imgw))\n",
    "\n",
    "            slice_list.append(img)\n",
    "        for _ in range(CFG.seq_len - len(slice_list)):\n",
    "            slice_list.append(np.zeros((imgh,imgw)))\n",
    "\n",
    "        image = np.stack(slice_list, axis=2) # 512*512*seq_len; 0-1\n",
    "        image = cv2.resize(image, (before_image_size, before_image_size))\n",
    "        image = image[y0:y1, z0:z1, :]\n",
    "\n",
    "        # transform\n",
    "        if self.transform:\n",
    "            augmented = self.transform(image=image)\n",
    "            image = augmented['image']\n",
    "\n",
    "        image = np.transpose(image, (2, 0, 1)) # seq_len*img_size*img_size; 0-1\n",
    "        return torch.from_numpy(image)"
   ]
  },
  {
   "cell_type": "code",
   "execution_count": null,
   "id": "422e05f3",
   "metadata": {
    "execution": {
     "iopub.execute_input": "2022-11-15T04:47:38.858875Z",
     "iopub.status.busy": "2022-11-15T04:47:38.858038Z",
     "iopub.status.idle": "2022-11-15T04:47:38.864128Z",
     "shell.execute_reply": "2022-11-15T04:47:38.863307Z"
    },
    "papermill": {
     "duration": 0.046269,
     "end_time": "2022-11-15T04:47:38.866167",
     "exception": false,
     "start_time": "2022-11-15T04:47:38.819898",
     "status": "completed"
    },
    "tags": []
   },
   "outputs": [],
   "source": [
    "from albumentations import Resize, RandomCrop\n",
    "import albumentations\n",
    "from albumentations.pytorch import ToTensorV2\n",
    "\n",
    "def get_transforms(*, data):\n",
    "    if data == 'valid':\n",
    "        return Compose([\n",
    "            Resize(CFG.img_size, CFG.img_size),\n",
    "        ])"
   ]
  },
  {
   "cell_type": "code",
   "execution_count": null,
   "id": "e786a929",
   "metadata": {
    "execution": {
     "iopub.execute_input": "2022-11-15T04:47:38.939554Z",
     "iopub.status.busy": "2022-11-15T04:47:38.939190Z",
     "iopub.status.idle": "2022-11-15T04:47:41.587601Z",
     "shell.execute_reply": "2022-11-15T04:47:41.586744Z"
    },
    "papermill": {
     "duration": 2.695271,
     "end_time": "2022-11-15T04:47:41.596745",
     "exception": false,
     "start_time": "2022-11-15T04:47:38.901474",
     "status": "completed"
    },
    "tags": []
   },
   "outputs": [],
   "source": [
    "from pylab import rcParams\n",
    "dataset_show = TestDataset(\n",
    "    train_df,\n",
    "    transform=get_transforms(data='valid') # None, get_transforms(data='check')\n",
    "    )\n",
    "rcParams['figure.figsize'] = 30,20\n",
    "for i in range(2):\n",
    "    f, axarr = plt.subplots(1,5)\n",
    "    idx = np.random.randint(0, len(dataset_show))\n",
    "    img = dataset_show[idx]\n",
    "    # axarr[p].imshow(img) # transform=None\n",
    "    axarr[0].imshow(img[0]); plt.axis('OFF');\n",
    "    axarr[1].imshow(img[1]); plt.axis('OFF');\n",
    "    axarr[2].imshow(img[2]); plt.axis('OFF');\n",
    "    axarr[3].imshow(img[3]); plt.axis('OFF');\n",
    "    axarr[4].imshow(img[4]); plt.axis('OFF');"
   ]
  },
  {
   "cell_type": "code",
   "execution_count": null,
   "id": "ab3c49b9",
   "metadata": {
    "execution": {
     "iopub.execute_input": "2022-11-15T04:47:41.717638Z",
     "iopub.status.busy": "2022-11-15T04:47:41.717253Z",
     "iopub.status.idle": "2022-11-15T04:47:41.730754Z",
     "shell.execute_reply": "2022-11-15T04:47:41.729809Z"
    },
    "jupyter": {
     "source_hidden": true
    },
    "papermill": {
     "duration": 0.076802,
     "end_time": "2022-11-15T04:47:41.732733",
     "exception": false,
     "start_time": "2022-11-15T04:47:41.655931",
     "status": "completed"
    },
    "tags": []
   },
   "outputs": [],
   "source": [
    "import torch.nn as nn\n",
    "from itertools import repeat\n",
    "\n",
    "class SpatialDropout(nn.Module):\n",
    "    def __init__(self, drop=0.5):\n",
    "        super(SpatialDropout, self).__init__()\n",
    "        self.drop = drop\n",
    "        \n",
    "    def forward(self, inputs, noise_shape=None):\n",
    "        \"\"\"\n",
    "        @param: inputs, tensor\n",
    "        @param: noise_shape, tuple\n",
    "        \"\"\"\n",
    "        outputs = inputs.clone()\n",
    "        if noise_shape is None:\n",
    "            noise_shape = (inputs.shape[0], *repeat(1, inputs.dim()-2), inputs.shape[-1]) \n",
    "        \n",
    "        self.noise_shape = noise_shape\n",
    "        if not self.training or self.drop == 0:\n",
    "            return inputs\n",
    "        else:\n",
    "            noises = self._make_noises(inputs)\n",
    "            if self.drop == 1:\n",
    "                noises.fill_(0.0)\n",
    "            else:\n",
    "                noises.bernoulli_(1 - self.drop).div_(1 - self.drop)\n",
    "            noises = noises.expand_as(inputs)    \n",
    "            outputs.mul_(noises)\n",
    "            return outputs\n",
    "            \n",
    "    def _make_noises(self, inputs):\n",
    "        return inputs.new().resize_(self.noise_shape)\n",
    "\n",
    "\n",
    "import torch\n",
    "from torch import nn\n",
    "import torch.nn.functional as F\n",
    "\n",
    "from typing import Dict, Optional\n",
    " \n",
    "import numpy as np\n",
    "import torch\n",
    "import torch.nn.functional as F\n",
    "from torch import Tensor\n",
    "\n",
    "\n",
    "    \n",
    "class MLPAttentionNetwork(nn.Module):\n",
    " \n",
    "    def __init__(self, hidden_dim, attention_dim=None):\n",
    "        super(MLPAttentionNetwork, self).__init__()\n",
    " \n",
    "        self.hidden_dim = hidden_dim\n",
    "        self.attention_dim = attention_dim\n",
    "        if self.attention_dim is None:\n",
    "            self.attention_dim = self.hidden_dim\n",
    "        # W * x + b\n",
    "        self.proj_w = nn.Linear(self.hidden_dim, self.attention_dim, bias=True)\n",
    "        # v.T\n",
    "        self.proj_v = nn.Linear(self.attention_dim, 1, bias=False)\n",
    " \n",
    "    def forward(self, x):\n",
    "        \"\"\"\n",
    "        :param x: seq_len, batch_size, hidden_dim\n",
    "        :return: batch_size * seq_len, batch_size * hidden_dim\n",
    "        \"\"\"\n",
    "        # print(f\"x shape:{x.shape}\")\n",
    "        batch_size, seq_len, _ = x.size()\n",
    "        # flat_inputs = x.reshape(-1, self.hidden_dim) # (batch_size*seq_len, hidden_dim)\n",
    "        # print(f\"flat_inputs shape:{flat_inputs.shape}\")\n",
    "        \n",
    "        H = torch.tanh(self.proj_w(x)) # (batch_size, seq_len, hidden_dim)\n",
    "        # print(f\"H shape:{H.shape}\")\n",
    "        \n",
    "        att_scores = torch.softmax(self.proj_v(H),axis=1) # (batch_size, seq_len)\n",
    "        # print(f\"att_scores shape:{att_scores.shape}\")\n",
    "        \n",
    "        attn_x = (x * att_scores).sum(1) # (batch_size, hidden_dim)\n",
    "        # print(f\"attn_x shape:{attn_x.shape}\")\n",
    "        return attn_x"
   ]
  },
  {
   "cell_type": "code",
   "execution_count": null,
   "id": "28e0dc6a",
   "metadata": {
    "execution": {
     "iopub.execute_input": "2022-11-15T04:47:41.846383Z",
     "iopub.status.busy": "2022-11-15T04:47:41.845681Z",
     "iopub.status.idle": "2022-11-15T04:47:41.857791Z",
     "shell.execute_reply": "2022-11-15T04:47:41.856913Z"
    },
    "papermill": {
     "duration": 0.073318,
     "end_time": "2022-11-15T04:47:41.859835",
     "exception": false,
     "start_time": "2022-11-15T04:47:41.786517",
     "status": "completed"
    },
    "tags": []
   },
   "outputs": [],
   "source": [
    "class RSNAClassifier(nn.Module):\n",
    "    def __init__(self, model_arch, hidden_dim=256, seq_len=24, pretrained=False):\n",
    "        super().__init__()\n",
    "        self.seq_len = seq_len\n",
    "        self.model = timm.create_model(model_arch, in_chans=1, pretrained=False)\n",
    "        self.model_arch = model_arch\n",
    "\n",
    "        if 'efficientnet' in self.model_arch:\n",
    "            cnn_feature = self.model.classifier.in_features\n",
    "            self.model.classifier = nn.Identity()\n",
    "        elif \"res\" in self.model_arch:\n",
    "            cnn_feature = self.model.fc.in_features\n",
    "            self.model.global_pool = nn.Identity()\n",
    "            self.model.fc = nn.Identity()\n",
    "            self.pooling = nn.AdaptiveAvgPool2d(1)\n",
    "        \n",
    "        self.spatialdropout = SpatialDropout(CFG.dropout)\n",
    "        self.gru = nn.GRU(cnn_feature, hidden_dim, 2, batch_first=True, bidirectional=True)\n",
    "        self.mlp_attention_layer = MLPAttentionNetwork(2 * hidden_dim)\n",
    "        self.logits = nn.Sequential(\n",
    "            nn.Linear(hidden_dim*2, 128),\n",
    "            nn.ReLU(),\n",
    "            nn.Dropout(CFG.dropout),\n",
    "            nn.Linear(128, 1)\n",
    "        )\n",
    "\n",
    "        # for n, m in self.named_modules():\n",
    "        #     if isinstance(m, nn.GRU):\n",
    "        #         print(f\"init {m}\")\n",
    "        #         for param in m.parameters():\n",
    "        #             if len(param.shape) >= 2:\n",
    "        #                 nn.init.orthogonal_(param.data)\n",
    "        #             else:\n",
    "        #                 nn.init.normal_(param.data)\n",
    "\n",
    "    def forward(self, x): # (B, seq_len, H, W)\n",
    "        bs = x.size(0) \n",
    "        x = x.reshape(bs*self.seq_len, 1, x.size(2), x.size(3)) # (B*seq_len, 1, H, W)\n",
    "        features = self.model(x)   \n",
    "        if \"res\" in self.model_arch:                             \n",
    "            features = self.pooling(features).view(bs*self.seq_len, -1) # (B*seq_len, cnn_feature)\n",
    "        features = self.spatialdropout(features)                # (B*seq_len, cnn_feature)\n",
    "        # print(features.shape)\n",
    "        features = features.reshape(bs, self.seq_len, -1)       # (B, seq_len, cnn_feature)\n",
    "        features, _ = self.gru(features)                        # (B, seq_len, hidden_dim*2)\n",
    "        atten_out = self.mlp_attention_layer(features)          # (B, hidden_dim*2)\n",
    "        pred = self.logits(atten_out)                           # (B, 1)\n",
    "        pred = pred.view(bs, -1)                                # (B, 1)\n",
    "        return pred"
   ]
  },
  {
   "cell_type": "code",
   "execution_count": null,
   "id": "84c49416",
   "metadata": {
    "execution": {
     "iopub.execute_input": "2022-11-15T04:47:41.972947Z",
     "iopub.status.busy": "2022-11-15T04:47:41.972585Z",
     "iopub.status.idle": "2022-11-15T04:47:48.539600Z",
     "shell.execute_reply": "2022-11-15T04:47:48.538583Z"
    },
    "papermill": {
     "duration": 6.628232,
     "end_time": "2022-11-15T04:47:48.542403",
     "exception": false,
     "start_time": "2022-11-15T04:47:41.914171",
     "status": "completed"
    },
    "tags": []
   },
   "outputs": [],
   "source": [
    "test_dataset = TestDataset(train_df, transform=get_transforms(data='valid'))\n",
    "test_loader = DataLoader(test_dataset, batch_size=CFG.valid_bs, shuffle=False, num_workers=CFG.num_workers, pin_memory=True, drop_last=False)\n",
    "\n",
    "cls_model_list = []\n",
    "for m_arch, m_weight  in zip(CFG.archs_list, CFG.weights_list):\n",
    "    model = RSNAClassifier(m_arch, hidden_dim=256, seq_len=24, pretrained=False)\n",
    "    model.to(device)\n",
    "    model.load_state_dict(torch.load(m_weight)[\"model\"])\n",
    "    model.eval()\n",
    "    cls_model_list.append(model)"
   ]
  },
  {
   "cell_type": "code",
   "execution_count": null,
   "id": "be42bcd6",
   "metadata": {
    "execution": {
     "iopub.execute_input": "2022-11-15T04:47:48.718031Z",
     "iopub.status.busy": "2022-11-15T04:47:48.717584Z",
     "iopub.status.idle": "2022-11-15T04:47:48.723669Z",
     "shell.execute_reply": "2022-11-15T04:47:48.722844Z"
    },
    "papermill": {
     "duration": 0.099737,
     "end_time": "2022-11-15T04:47:48.729054",
     "exception": false,
     "start_time": "2022-11-15T04:47:48.629317",
     "status": "completed"
    },
    "tags": []
   },
   "outputs": [],
   "source": [
    "len(cls_model_list)"
   ]
  },
  {
   "cell_type": "code",
   "execution_count": null,
   "id": "bb985a17",
   "metadata": {
    "execution": {
     "iopub.execute_input": "2022-11-15T04:47:48.883210Z",
     "iopub.status.busy": "2022-11-15T04:47:48.882846Z",
     "iopub.status.idle": "2022-11-15T04:48:38.089452Z",
     "shell.execute_reply": "2022-11-15T04:48:38.088167Z"
    },
    "papermill": {
     "duration": 49.282731,
     "end_time": "2022-11-15T04:48:38.095203",
     "exception": false,
     "start_time": "2022-11-15T04:47:48.812472",
     "status": "completed"
    },
    "tags": []
   },
   "outputs": [],
   "source": [
    "all_preds = []\n",
    "for step, (images) in tqdm(enumerate(test_loader), total=len(test_loader)):\n",
    "    images = images.to(device, dtype=torch.float) # study-cid:24*img_sz*img_sz\n",
    "    models_preds = []\n",
    "    for model in cls_model_list:\n",
    "        with torch.no_grad(): \n",
    "            y_preds = model(images) # (B, 1)\n",
    "            y_preds = y_preds.squeeze(1)\n",
    "            models_preds.append(y_preds.sigmoid().to('cpu').numpy()) # list,len=model_nums,np(batch)\n",
    "    models_preds = np.mean(models_preds, axis=0) # batch, one sample preds\n",
    "    all_preds.append(models_preds)    \n",
    "all_preds = np.concatenate(all_preds)"
   ]
  },
  {
   "cell_type": "code",
   "execution_count": null,
   "id": "b40dc086",
   "metadata": {
    "execution": {
     "iopub.execute_input": "2022-11-15T04:48:38.296511Z",
     "iopub.status.busy": "2022-11-15T04:48:38.296071Z",
     "iopub.status.idle": "2022-11-15T04:48:38.322920Z",
     "shell.execute_reply": "2022-11-15T04:48:38.322033Z"
    },
    "papermill": {
     "duration": 0.129204,
     "end_time": "2022-11-15T04:48:38.325553",
     "exception": false,
     "start_time": "2022-11-15T04:48:38.196349",
     "status": "completed"
    },
    "tags": []
   },
   "outputs": [],
   "source": [
    "train_df[\"fractured\"] = all_preds\n",
    "model_preds_df = train_df[[\"StudyInstanceUID\", \"cid\", \"fractured\"]]\n",
    "print(model_preds_df.shape)\n",
    "model_preds_df.head()"
   ]
  },
  {
   "cell_type": "code",
   "execution_count": null,
   "id": "a8ef7868",
   "metadata": {
    "execution": {
     "iopub.execute_input": "2022-11-15T04:48:38.523874Z",
     "iopub.status.busy": "2022-11-15T04:48:38.523169Z",
     "iopub.status.idle": "2022-11-15T04:48:38.547450Z",
     "shell.execute_reply": "2022-11-15T04:48:38.546563Z"
    },
    "papermill": {
     "duration": 0.125295,
     "end_time": "2022-11-15T04:48:38.550065",
     "exception": false,
     "start_time": "2022-11-15T04:48:38.424770",
     "status": "completed"
    },
    "tags": []
   },
   "outputs": [],
   "source": [
    "def type_to_num(x):\n",
    "    type_dict = {\n",
    "        \"C1\":1,\n",
    "        \"C2\":2,\n",
    "        \"C3\":3,\n",
    "        \"C4\":4,\n",
    "        \"C5\":5,\n",
    "        \"C6\":6,\n",
    "        \"C7\":7,\n",
    "        \"patient_overall\":8,\n",
    "    }\n",
    "    return type_dict[x]\n",
    "\n",
    "test_df[\"cid\"] = test_df[\"prediction_type\"].apply(type_to_num)\n",
    "print(test_df.shape)\n",
    "test_df.head(8)"
   ]
  },
  {
   "cell_type": "code",
   "execution_count": null,
   "id": "efb59b5b",
   "metadata": {
    "execution": {
     "iopub.execute_input": "2022-11-15T04:48:38.748711Z",
     "iopub.status.busy": "2022-11-15T04:48:38.748150Z",
     "iopub.status.idle": "2022-11-15T04:48:38.774450Z",
     "shell.execute_reply": "2022-11-15T04:48:38.773543Z"
    },
    "papermill": {
     "duration": 0.127265,
     "end_time": "2022-11-15T04:48:38.777039",
     "exception": false,
     "start_time": "2022-11-15T04:48:38.649774",
     "status": "completed"
    },
    "tags": []
   },
   "outputs": [],
   "source": [
    "test_df = test_df.merge(model_preds_df, how=\"left\", on=[\"StudyInstanceUID\", \"cid\"])\n",
    "test_df[\"fractured\"] = test_df[\"fractured\"].fillna(CFG.fillna_number)\n",
    "print(test_df.shape)\n",
    "test_df.head(8)"
   ]
  },
  {
   "cell_type": "code",
   "execution_count": null,
   "id": "a62963e5",
   "metadata": {
    "execution": {
     "iopub.execute_input": "2022-11-15T04:48:38.924609Z",
     "iopub.status.busy": "2022-11-15T04:48:38.924196Z",
     "iopub.status.idle": "2022-11-15T04:48:38.947729Z",
     "shell.execute_reply": "2022-11-15T04:48:38.946182Z"
    },
    "papermill": {
     "duration": 0.08577,
     "end_time": "2022-11-15T04:48:38.950451",
     "exception": false,
     "start_time": "2022-11-15T04:48:38.864681",
     "status": "completed"
    },
    "tags": []
   },
   "outputs": [],
   "source": [
    "for study_id in test_study_list:\n",
    "    # overall_fractured = test_df[test_df[\"StudyInstanceUID\"]==study_id][\"fractured\"].max()\n",
    "    overall_fractured = test_df[test_df[\"StudyInstanceUID\"]==study_id][\"fractured\"][:7].agg(lambda x:1-((1-x).prod()))\n",
    "    test_df.loc[((test_df[\"StudyInstanceUID\"]==study_id) & (test_df[\"prediction_type\"]==\"patient_overall\")), \"fractured\"] = overall_fractured\n",
    "print(test_df.shape)\n",
    "test_df"
   ]
  },
  {
   "cell_type": "code",
   "execution_count": null,
   "id": "7821000b",
   "metadata": {
    "execution": {
     "iopub.execute_input": "2022-11-15T04:48:39.190908Z",
     "iopub.status.busy": "2022-11-15T04:48:39.190563Z",
     "iopub.status.idle": "2022-11-15T04:48:39.204230Z",
     "shell.execute_reply": "2022-11-15T04:48:39.203249Z"
    },
    "papermill": {
     "duration": 0.074513,
     "end_time": "2022-11-15T04:48:39.206164",
     "exception": false,
     "start_time": "2022-11-15T04:48:39.131651",
     "status": "completed"
    },
    "tags": []
   },
   "outputs": [],
   "source": [
    "final_df = test_df[[\"row_id\", \"fractured\"]]\n",
    "final_df.to_csv(\"submission.csv\", index=False)\n",
    "final_df"
   ]
  }
 ],
 "metadata": {
  "kernelspec": {
   "display_name": "Python 3.7.11 ('py37')",
   "language": "python",
   "name": "python3"
  },
  "language_info": {
   "codemirror_mode": {
    "name": "ipython",
    "version": 3
   },
   "file_extension": ".py",
   "mimetype": "text/x-python",
   "name": "python",
   "nbconvert_exporter": "python",
   "pygments_lexer": "ipython3",
   "version": "3.7.11"
  },
  "papermill": {
   "default_parameters": {},
   "duration": 153.388619,
   "end_time": "2022-11-15T04:48:43.120610",
   "environment_variables": {},
   "exception": null,
   "input_path": "__notebook__.ipynb",
   "output_path": "__notebook__.ipynb",
   "parameters": {},
   "start_time": "2022-11-15T04:46:09.731991",
   "version": "2.3.4"
  },
  "vscode": {
   "interpreter": {
    "hash": "b79a61544c9a744d09395b396d14bdc3ab2980641b64ddb1c7bc6d7b892900a0"
   }
  },
  "widgets": {
   "application/vnd.jupyter.widget-state+json": {
    "state": {
     "011c465524744762a4dc222a40ff47fe": {
      "model_module": "@jupyter-widgets/base",
      "model_module_version": "1.2.0",
      "model_name": "LayoutModel",
      "state": {
       "_model_module": "@jupyter-widgets/base",
       "_model_module_version": "1.2.0",
       "_model_name": "LayoutModel",
       "_view_count": null,
       "_view_module": "@jupyter-widgets/base",
       "_view_module_version": "1.2.0",
       "_view_name": "LayoutView",
       "align_content": null,
       "align_items": null,
       "align_self": null,
       "border": null,
       "bottom": null,
       "display": null,
       "flex": null,
       "flex_flow": null,
       "grid_area": null,
       "grid_auto_columns": null,
       "grid_auto_flow": null,
       "grid_auto_rows": null,
       "grid_column": null,
       "grid_gap": null,
       "grid_row": null,
       "grid_template_areas": null,
       "grid_template_columns": null,
       "grid_template_rows": null,
       "height": null,
       "justify_content": null,
       "justify_items": null,
       "left": null,
       "margin": null,
       "max_height": null,
       "max_width": null,
       "min_height": null,
       "min_width": null,
       "object_fit": null,
       "object_position": null,
       "order": null,
       "overflow": null,
       "overflow_x": null,
       "overflow_y": null,
       "padding": null,
       "right": null,
       "top": null,
       "visibility": null,
       "width": null
      }
     },
     "020be2d4c3164b8caa9b95c04a286f75": {
      "model_module": "@jupyter-widgets/controls",
      "model_module_version": "1.5.0",
      "model_name": "ProgressStyleModel",
      "state": {
       "_model_module": "@jupyter-widgets/controls",
       "_model_module_version": "1.5.0",
       "_model_name": "ProgressStyleModel",
       "_view_count": null,
       "_view_module": "@jupyter-widgets/base",
       "_view_module_version": "1.2.0",
       "_view_name": "StyleView",
       "bar_color": null,
       "description_width": ""
      }
     },
     "02add10261cf485694681ed26ec0f055": {
      "model_module": "@jupyter-widgets/base",
      "model_module_version": "1.2.0",
      "model_name": "LayoutModel",
      "state": {
       "_model_module": "@jupyter-widgets/base",
       "_model_module_version": "1.2.0",
       "_model_name": "LayoutModel",
       "_view_count": null,
       "_view_module": "@jupyter-widgets/base",
       "_view_module_version": "1.2.0",
       "_view_name": "LayoutView",
       "align_content": null,
       "align_items": null,
       "align_self": null,
       "border": null,
       "bottom": null,
       "display": null,
       "flex": null,
       "flex_flow": null,
       "grid_area": null,
       "grid_auto_columns": null,
       "grid_auto_flow": null,
       "grid_auto_rows": null,
       "grid_column": null,
       "grid_gap": null,
       "grid_row": null,
       "grid_template_areas": null,
       "grid_template_columns": null,
       "grid_template_rows": null,
       "height": null,
       "justify_content": null,
       "justify_items": null,
       "left": null,
       "margin": null,
       "max_height": null,
       "max_width": null,
       "min_height": null,
       "min_width": null,
       "object_fit": null,
       "object_position": null,
       "order": null,
       "overflow": null,
       "overflow_x": null,
       "overflow_y": null,
       "padding": null,
       "right": null,
       "top": null,
       "visibility": null,
       "width": null
      }
     },
     "18eecf5458bd41b0b395b0912fbb4455": {
      "model_module": "@jupyter-widgets/controls",
      "model_module_version": "1.5.0",
      "model_name": "DescriptionStyleModel",
      "state": {
       "_model_module": "@jupyter-widgets/controls",
       "_model_module_version": "1.5.0",
       "_model_name": "DescriptionStyleModel",
       "_view_count": null,
       "_view_module": "@jupyter-widgets/base",
       "_view_module_version": "1.2.0",
       "_view_name": "StyleView",
       "description_width": ""
      }
     },
     "28fed4abafc244049673abf797eb68f4": {
      "model_module": "@jupyter-widgets/controls",
      "model_module_version": "1.5.0",
      "model_name": "FloatProgressModel",
      "state": {
       "_dom_classes": [],
       "_model_module": "@jupyter-widgets/controls",
       "_model_module_version": "1.5.0",
       "_model_name": "FloatProgressModel",
       "_view_count": null,
       "_view_module": "@jupyter-widgets/controls",
       "_view_module_version": "1.5.0",
       "_view_name": "ProgressView",
       "bar_style": "success",
       "description": "",
       "description_tooltip": null,
       "layout": "IPY_MODEL_4b92379f669f44458e397827e294fc8c",
       "max": 42,
       "min": 0,
       "orientation": "horizontal",
       "style": "IPY_MODEL_020be2d4c3164b8caa9b95c04a286f75",
       "value": 42
      }
     },
     "3e7456478b23403c978176570516d24b": {
      "model_module": "@jupyter-widgets/controls",
      "model_module_version": "1.5.0",
      "model_name": "HBoxModel",
      "state": {
       "_dom_classes": [],
       "_model_module": "@jupyter-widgets/controls",
       "_model_module_version": "1.5.0",
       "_model_name": "HBoxModel",
       "_view_count": null,
       "_view_module": "@jupyter-widgets/controls",
       "_view_module_version": "1.5.0",
       "_view_name": "HBoxView",
       "box_style": "",
       "children": [
        "IPY_MODEL_92439e0a65364a38a7bbc81e4ef144f8",
        "IPY_MODEL_28fed4abafc244049673abf797eb68f4",
        "IPY_MODEL_bc8edc4cd3014ea881da47e0de3b5055"
       ],
       "layout": "IPY_MODEL_87b4a4159c364b9fa0446d6633fa8d06"
      }
     },
     "403ced7ecf7a4bd9bbdb44aca332f7d0": {
      "model_module": "@jupyter-widgets/controls",
      "model_module_version": "1.5.0",
      "model_name": "HBoxModel",
      "state": {
       "_dom_classes": [],
       "_model_module": "@jupyter-widgets/controls",
       "_model_module_version": "1.5.0",
       "_model_name": "HBoxModel",
       "_view_count": null,
       "_view_module": "@jupyter-widgets/controls",
       "_view_module_version": "1.5.0",
       "_view_name": "HBoxView",
       "box_style": "",
       "children": [
        "IPY_MODEL_4a809a940b8d4d7d925b185e2cc0574f",
        "IPY_MODEL_b3299e3d528745d5a48be646c0e8a5f2",
        "IPY_MODEL_bc947908257b44c8b0ee61c16a9ef600"
       ],
       "layout": "IPY_MODEL_771625612e874573b86f9357ce4b1233"
      }
     },
     "4113da8d8341441c87ce0b45da93291a": {
      "model_module": "@jupyter-widgets/base",
      "model_module_version": "1.2.0",
      "model_name": "LayoutModel",
      "state": {
       "_model_module": "@jupyter-widgets/base",
       "_model_module_version": "1.2.0",
       "_model_name": "LayoutModel",
       "_view_count": null,
       "_view_module": "@jupyter-widgets/base",
       "_view_module_version": "1.2.0",
       "_view_name": "LayoutView",
       "align_content": null,
       "align_items": null,
       "align_self": null,
       "border": null,
       "bottom": null,
       "display": null,
       "flex": null,
       "flex_flow": null,
       "grid_area": null,
       "grid_auto_columns": null,
       "grid_auto_flow": null,
       "grid_auto_rows": null,
       "grid_column": null,
       "grid_gap": null,
       "grid_row": null,
       "grid_template_areas": null,
       "grid_template_columns": null,
       "grid_template_rows": null,
       "height": null,
       "justify_content": null,
       "justify_items": null,
       "left": null,
       "margin": null,
       "max_height": null,
       "max_width": null,
       "min_height": null,
       "min_width": null,
       "object_fit": null,
       "object_position": null,
       "order": null,
       "overflow": null,
       "overflow_x": null,
       "overflow_y": null,
       "padding": null,
       "right": null,
       "top": null,
       "visibility": null,
       "width": null
      }
     },
     "44b244b3b419460fbb2717ec3018c554": {
      "model_module": "@jupyter-widgets/controls",
      "model_module_version": "1.5.0",
      "model_name": "FloatProgressModel",
      "state": {
       "_dom_classes": [],
       "_model_module": "@jupyter-widgets/controls",
       "_model_module_version": "1.5.0",
       "_model_name": "FloatProgressModel",
       "_view_count": null,
       "_view_module": "@jupyter-widgets/controls",
       "_view_module_version": "1.5.0",
       "_view_name": "ProgressView",
       "bar_style": "success",
       "description": "",
       "description_tooltip": null,
       "layout": "IPY_MODEL_d8891dd70c824b088a4be499dc821eb2",
       "max": 3,
       "min": 0,
       "orientation": "horizontal",
       "style": "IPY_MODEL_c8baee96a676489e9893e94d80ab407c",
       "value": 3
      }
     },
     "4a809a940b8d4d7d925b185e2cc0574f": {
      "model_module": "@jupyter-widgets/controls",
      "model_module_version": "1.5.0",
      "model_name": "HTMLModel",
      "state": {
       "_dom_classes": [],
       "_model_module": "@jupyter-widgets/controls",
       "_model_module_version": "1.5.0",
       "_model_name": "HTMLModel",
       "_view_count": null,
       "_view_module": "@jupyter-widgets/controls",
       "_view_module_version": "1.5.0",
       "_view_name": "HTMLView",
       "description": "",
       "description_tooltip": null,
       "layout": "IPY_MODEL_988fb5df5dc6413cac6050b6a12f502e",
       "placeholder": "​",
       "style": "IPY_MODEL_eb8e2f74a5e84dafbbf124cfd7d0a6e2",
       "value": "100%"
      }
     },
     "4b92379f669f44458e397827e294fc8c": {
      "model_module": "@jupyter-widgets/base",
      "model_module_version": "1.2.0",
      "model_name": "LayoutModel",
      "state": {
       "_model_module": "@jupyter-widgets/base",
       "_model_module_version": "1.2.0",
       "_model_name": "LayoutModel",
       "_view_count": null,
       "_view_module": "@jupyter-widgets/base",
       "_view_module_version": "1.2.0",
       "_view_name": "LayoutView",
       "align_content": null,
       "align_items": null,
       "align_self": null,
       "border": null,
       "bottom": null,
       "display": null,
       "flex": null,
       "flex_flow": null,
       "grid_area": null,
       "grid_auto_columns": null,
       "grid_auto_flow": null,
       "grid_auto_rows": null,
       "grid_column": null,
       "grid_gap": null,
       "grid_row": null,
       "grid_template_areas": null,
       "grid_template_columns": null,
       "grid_template_rows": null,
       "height": null,
       "justify_content": null,
       "justify_items": null,
       "left": null,
       "margin": null,
       "max_height": null,
       "max_width": null,
       "min_height": null,
       "min_width": null,
       "object_fit": null,
       "object_position": null,
       "order": null,
       "overflow": null,
       "overflow_x": null,
       "overflow_y": null,
       "padding": null,
       "right": null,
       "top": null,
       "visibility": null,
       "width": null
      }
     },
     "5b8e2c92c1014480b29e3dbe06480c87": {
      "model_module": "@jupyter-widgets/base",
      "model_module_version": "1.2.0",
      "model_name": "LayoutModel",
      "state": {
       "_model_module": "@jupyter-widgets/base",
       "_model_module_version": "1.2.0",
       "_model_name": "LayoutModel",
       "_view_count": null,
       "_view_module": "@jupyter-widgets/base",
       "_view_module_version": "1.2.0",
       "_view_name": "LayoutView",
       "align_content": null,
       "align_items": null,
       "align_self": null,
       "border": null,
       "bottom": null,
       "display": null,
       "flex": null,
       "flex_flow": null,
       "grid_area": null,
       "grid_auto_columns": null,
       "grid_auto_flow": null,
       "grid_auto_rows": null,
       "grid_column": null,
       "grid_gap": null,
       "grid_row": null,
       "grid_template_areas": null,
       "grid_template_columns": null,
       "grid_template_rows": null,
       "height": null,
       "justify_content": null,
       "justify_items": null,
       "left": null,
       "margin": null,
       "max_height": null,
       "max_width": null,
       "min_height": null,
       "min_width": null,
       "object_fit": null,
       "object_position": null,
       "order": null,
       "overflow": null,
       "overflow_x": null,
       "overflow_y": null,
       "padding": null,
       "right": null,
       "top": null,
       "visibility": null,
       "width": null
      }
     },
     "5fdae5c4bead44cfa09f3d3b2e7eadb4": {
      "model_module": "@jupyter-widgets/controls",
      "model_module_version": "1.5.0",
      "model_name": "DescriptionStyleModel",
      "state": {
       "_model_module": "@jupyter-widgets/controls",
       "_model_module_version": "1.5.0",
       "_model_name": "DescriptionStyleModel",
       "_view_count": null,
       "_view_module": "@jupyter-widgets/base",
       "_view_module_version": "1.2.0",
       "_view_name": "StyleView",
       "description_width": ""
      }
     },
     "6c7d47b9ca0c41fdb75f21b616a3cbc3": {
      "model_module": "@jupyter-widgets/base",
      "model_module_version": "1.2.0",
      "model_name": "LayoutModel",
      "state": {
       "_model_module": "@jupyter-widgets/base",
       "_model_module_version": "1.2.0",
       "_model_name": "LayoutModel",
       "_view_count": null,
       "_view_module": "@jupyter-widgets/base",
       "_view_module_version": "1.2.0",
       "_view_name": "LayoutView",
       "align_content": null,
       "align_items": null,
       "align_self": null,
       "border": null,
       "bottom": null,
       "display": null,
       "flex": null,
       "flex_flow": null,
       "grid_area": null,
       "grid_auto_columns": null,
       "grid_auto_flow": null,
       "grid_auto_rows": null,
       "grid_column": null,
       "grid_gap": null,
       "grid_row": null,
       "grid_template_areas": null,
       "grid_template_columns": null,
       "grid_template_rows": null,
       "height": null,
       "justify_content": null,
       "justify_items": null,
       "left": null,
       "margin": null,
       "max_height": null,
       "max_width": null,
       "min_height": null,
       "min_width": null,
       "object_fit": null,
       "object_position": null,
       "order": null,
       "overflow": null,
       "overflow_x": null,
       "overflow_y": null,
       "padding": null,
       "right": null,
       "top": null,
       "visibility": null,
       "width": null
      }
     },
     "771625612e874573b86f9357ce4b1233": {
      "model_module": "@jupyter-widgets/base",
      "model_module_version": "1.2.0",
      "model_name": "LayoutModel",
      "state": {
       "_model_module": "@jupyter-widgets/base",
       "_model_module_version": "1.2.0",
       "_model_name": "LayoutModel",
       "_view_count": null,
       "_view_module": "@jupyter-widgets/base",
       "_view_module_version": "1.2.0",
       "_view_name": "LayoutView",
       "align_content": null,
       "align_items": null,
       "align_self": null,
       "border": null,
       "bottom": null,
       "display": null,
       "flex": null,
       "flex_flow": null,
       "grid_area": null,
       "grid_auto_columns": null,
       "grid_auto_flow": null,
       "grid_auto_rows": null,
       "grid_column": null,
       "grid_gap": null,
       "grid_row": null,
       "grid_template_areas": null,
       "grid_template_columns": null,
       "grid_template_rows": null,
       "height": null,
       "justify_content": null,
       "justify_items": null,
       "left": null,
       "margin": null,
       "max_height": null,
       "max_width": null,
       "min_height": null,
       "min_width": null,
       "object_fit": null,
       "object_position": null,
       "order": null,
       "overflow": null,
       "overflow_x": null,
       "overflow_y": null,
       "padding": null,
       "right": null,
       "top": null,
       "visibility": null,
       "width": null
      }
     },
     "7bc1c292a5474f7db46df169ff5f656f": {
      "model_module": "@jupyter-widgets/controls",
      "model_module_version": "1.5.0",
      "model_name": "HBoxModel",
      "state": {
       "_dom_classes": [],
       "_model_module": "@jupyter-widgets/controls",
       "_model_module_version": "1.5.0",
       "_model_name": "HBoxModel",
       "_view_count": null,
       "_view_module": "@jupyter-widgets/controls",
       "_view_module_version": "1.5.0",
       "_view_name": "HBoxView",
       "box_style": "",
       "children": [
        "IPY_MODEL_fb2028f454e347ac9b0ee85d7958a884",
        "IPY_MODEL_44b244b3b419460fbb2717ec3018c554",
        "IPY_MODEL_c663719ec0ed446cb20da96bca9f3016"
       ],
       "layout": "IPY_MODEL_02add10261cf485694681ed26ec0f055"
      }
     },
     "7db147e4691140209114e5f43615cf24": {
      "model_module": "@jupyter-widgets/base",
      "model_module_version": "1.2.0",
      "model_name": "LayoutModel",
      "state": {
       "_model_module": "@jupyter-widgets/base",
       "_model_module_version": "1.2.0",
       "_model_name": "LayoutModel",
       "_view_count": null,
       "_view_module": "@jupyter-widgets/base",
       "_view_module_version": "1.2.0",
       "_view_name": "LayoutView",
       "align_content": null,
       "align_items": null,
       "align_self": null,
       "border": null,
       "bottom": null,
       "display": null,
       "flex": null,
       "flex_flow": null,
       "grid_area": null,
       "grid_auto_columns": null,
       "grid_auto_flow": null,
       "grid_auto_rows": null,
       "grid_column": null,
       "grid_gap": null,
       "grid_row": null,
       "grid_template_areas": null,
       "grid_template_columns": null,
       "grid_template_rows": null,
       "height": null,
       "justify_content": null,
       "justify_items": null,
       "left": null,
       "margin": null,
       "max_height": null,
       "max_width": null,
       "min_height": null,
       "min_width": null,
       "object_fit": null,
       "object_position": null,
       "order": null,
       "overflow": null,
       "overflow_x": null,
       "overflow_y": null,
       "padding": null,
       "right": null,
       "top": null,
       "visibility": null,
       "width": null
      }
     },
     "8368a3c325a7411c87be9c1630a6f8e8": {
      "model_module": "@jupyter-widgets/controls",
      "model_module_version": "1.5.0",
      "model_name": "HTMLModel",
      "state": {
       "_dom_classes": [],
       "_model_module": "@jupyter-widgets/controls",
       "_model_module_version": "1.5.0",
       "_model_name": "HTMLModel",
       "_view_count": null,
       "_view_module": "@jupyter-widgets/controls",
       "_view_module_version": "1.5.0",
       "_view_name": "HTMLView",
       "description": "",
       "description_tooltip": null,
       "layout": "IPY_MODEL_5b8e2c92c1014480b29e3dbe06480c87",
       "placeholder": "​",
       "style": "IPY_MODEL_b29a1da40a504d13b0c8195d200477f4",
       "value": " 2/2 [00:49&lt;00:00, 22.64s/it]"
      }
     },
     "87b4a4159c364b9fa0446d6633fa8d06": {
      "model_module": "@jupyter-widgets/base",
      "model_module_version": "1.2.0",
      "model_name": "LayoutModel",
      "state": {
       "_model_module": "@jupyter-widgets/base",
       "_model_module_version": "1.2.0",
       "_model_name": "LayoutModel",
       "_view_count": null,
       "_view_module": "@jupyter-widgets/base",
       "_view_module_version": "1.2.0",
       "_view_name": "LayoutView",
       "align_content": null,
       "align_items": null,
       "align_self": null,
       "border": null,
       "bottom": null,
       "display": null,
       "flex": null,
       "flex_flow": null,
       "grid_area": null,
       "grid_auto_columns": null,
       "grid_auto_flow": null,
       "grid_auto_rows": null,
       "grid_column": null,
       "grid_gap": null,
       "grid_row": null,
       "grid_template_areas": null,
       "grid_template_columns": null,
       "grid_template_rows": null,
       "height": null,
       "justify_content": null,
       "justify_items": null,
       "left": null,
       "margin": null,
       "max_height": null,
       "max_width": null,
       "min_height": null,
       "min_width": null,
       "object_fit": null,
       "object_position": null,
       "order": null,
       "overflow": null,
       "overflow_x": null,
       "overflow_y": null,
       "padding": null,
       "right": null,
       "top": null,
       "visibility": null,
       "width": null
      }
     },
     "9039eed083b34abb9402fb2e611965da": {
      "model_module": "@jupyter-widgets/controls",
      "model_module_version": "1.5.0",
      "model_name": "FloatProgressModel",
      "state": {
       "_dom_classes": [],
       "_model_module": "@jupyter-widgets/controls",
       "_model_module_version": "1.5.0",
       "_model_name": "FloatProgressModel",
       "_view_count": null,
       "_view_module": "@jupyter-widgets/controls",
       "_view_module_version": "1.5.0",
       "_view_name": "ProgressView",
       "bar_style": "success",
       "description": "",
       "description_tooltip": null,
       "layout": "IPY_MODEL_9d504a3c19584bbea23892d2b8a52fc7",
       "max": 2,
       "min": 0,
       "orientation": "horizontal",
       "style": "IPY_MODEL_ef56439046964ba2892c89ef3387046c",
       "value": 2
      }
     },
     "92439e0a65364a38a7bbc81e4ef144f8": {
      "model_module": "@jupyter-widgets/controls",
      "model_module_version": "1.5.0",
      "model_name": "HTMLModel",
      "state": {
       "_dom_classes": [],
       "_model_module": "@jupyter-widgets/controls",
       "_model_module_version": "1.5.0",
       "_model_name": "HTMLModel",
       "_view_count": null,
       "_view_module": "@jupyter-widgets/controls",
       "_view_module_version": "1.5.0",
       "_view_name": "HTMLView",
       "description": "",
       "description_tooltip": null,
       "layout": "IPY_MODEL_6c7d47b9ca0c41fdb75f21b616a3cbc3",
       "placeholder": "​",
       "style": "IPY_MODEL_ce7eed7bbc254c21a221be286edc4bba",
       "value": "100%"
      }
     },
     "988fb5df5dc6413cac6050b6a12f502e": {
      "model_module": "@jupyter-widgets/base",
      "model_module_version": "1.2.0",
      "model_name": "LayoutModel",
      "state": {
       "_model_module": "@jupyter-widgets/base",
       "_model_module_version": "1.2.0",
       "_model_name": "LayoutModel",
       "_view_count": null,
       "_view_module": "@jupyter-widgets/base",
       "_view_module_version": "1.2.0",
       "_view_name": "LayoutView",
       "align_content": null,
       "align_items": null,
       "align_self": null,
       "border": null,
       "bottom": null,
       "display": null,
       "flex": null,
       "flex_flow": null,
       "grid_area": null,
       "grid_auto_columns": null,
       "grid_auto_flow": null,
       "grid_auto_rows": null,
       "grid_column": null,
       "grid_gap": null,
       "grid_row": null,
       "grid_template_areas": null,
       "grid_template_columns": null,
       "grid_template_rows": null,
       "height": null,
       "justify_content": null,
       "justify_items": null,
       "left": null,
       "margin": null,
       "max_height": null,
       "max_width": null,
       "min_height": null,
       "min_width": null,
       "object_fit": null,
       "object_position": null,
       "order": null,
       "overflow": null,
       "overflow_x": null,
       "overflow_y": null,
       "padding": null,
       "right": null,
       "top": null,
       "visibility": null,
       "width": null
      }
     },
     "9a30af4fcaba40cdb9003e8a1266af9f": {
      "model_module": "@jupyter-widgets/controls",
      "model_module_version": "1.5.0",
      "model_name": "DescriptionStyleModel",
      "state": {
       "_model_module": "@jupyter-widgets/controls",
       "_model_module_version": "1.5.0",
       "_model_name": "DescriptionStyleModel",
       "_view_count": null,
       "_view_module": "@jupyter-widgets/base",
       "_view_module_version": "1.2.0",
       "_view_name": "StyleView",
       "description_width": ""
      }
     },
     "9d504a3c19584bbea23892d2b8a52fc7": {
      "model_module": "@jupyter-widgets/base",
      "model_module_version": "1.2.0",
      "model_name": "LayoutModel",
      "state": {
       "_model_module": "@jupyter-widgets/base",
       "_model_module_version": "1.2.0",
       "_model_name": "LayoutModel",
       "_view_count": null,
       "_view_module": "@jupyter-widgets/base",
       "_view_module_version": "1.2.0",
       "_view_name": "LayoutView",
       "align_content": null,
       "align_items": null,
       "align_self": null,
       "border": null,
       "bottom": null,
       "display": null,
       "flex": null,
       "flex_flow": null,
       "grid_area": null,
       "grid_auto_columns": null,
       "grid_auto_flow": null,
       "grid_auto_rows": null,
       "grid_column": null,
       "grid_gap": null,
       "grid_row": null,
       "grid_template_areas": null,
       "grid_template_columns": null,
       "grid_template_rows": null,
       "height": null,
       "justify_content": null,
       "justify_items": null,
       "left": null,
       "margin": null,
       "max_height": null,
       "max_width": null,
       "min_height": null,
       "min_width": null,
       "object_fit": null,
       "object_position": null,
       "order": null,
       "overflow": null,
       "overflow_x": null,
       "overflow_y": null,
       "padding": null,
       "right": null,
       "top": null,
       "visibility": null,
       "width": null
      }
     },
     "b13551951828436fbd00473a3050331e": {
      "model_module": "@jupyter-widgets/controls",
      "model_module_version": "1.5.0",
      "model_name": "ProgressStyleModel",
      "state": {
       "_model_module": "@jupyter-widgets/controls",
       "_model_module_version": "1.5.0",
       "_model_name": "ProgressStyleModel",
       "_view_count": null,
       "_view_module": "@jupyter-widgets/base",
       "_view_module_version": "1.2.0",
       "_view_name": "StyleView",
       "bar_color": null,
       "description_width": ""
      }
     },
     "b29a1da40a504d13b0c8195d200477f4": {
      "model_module": "@jupyter-widgets/controls",
      "model_module_version": "1.5.0",
      "model_name": "DescriptionStyleModel",
      "state": {
       "_model_module": "@jupyter-widgets/controls",
       "_model_module_version": "1.5.0",
       "_model_name": "DescriptionStyleModel",
       "_view_count": null,
       "_view_module": "@jupyter-widgets/base",
       "_view_module_version": "1.2.0",
       "_view_name": "StyleView",
       "description_width": ""
      }
     },
     "b3299e3d528745d5a48be646c0e8a5f2": {
      "model_module": "@jupyter-widgets/controls",
      "model_module_version": "1.5.0",
      "model_name": "FloatProgressModel",
      "state": {
       "_dom_classes": [],
       "_model_module": "@jupyter-widgets/controls",
       "_model_module_version": "1.5.0",
       "_model_name": "FloatProgressModel",
       "_view_count": null,
       "_view_module": "@jupyter-widgets/controls",
       "_view_module_version": "1.5.0",
       "_view_name": "ProgressView",
       "bar_style": "success",
       "description": "",
       "description_tooltip": null,
       "layout": "IPY_MODEL_011c465524744762a4dc222a40ff47fe",
       "max": 3,
       "min": 0,
       "orientation": "horizontal",
       "style": "IPY_MODEL_b13551951828436fbd00473a3050331e",
       "value": 3
      }
     },
     "ba898178ad1d491995e6e32e948cbe87": {
      "model_module": "@jupyter-widgets/base",
      "model_module_version": "1.2.0",
      "model_name": "LayoutModel",
      "state": {
       "_model_module": "@jupyter-widgets/base",
       "_model_module_version": "1.2.0",
       "_model_name": "LayoutModel",
       "_view_count": null,
       "_view_module": "@jupyter-widgets/base",
       "_view_module_version": "1.2.0",
       "_view_name": "LayoutView",
       "align_content": null,
       "align_items": null,
       "align_self": null,
       "border": null,
       "bottom": null,
       "display": null,
       "flex": null,
       "flex_flow": null,
       "grid_area": null,
       "grid_auto_columns": null,
       "grid_auto_flow": null,
       "grid_auto_rows": null,
       "grid_column": null,
       "grid_gap": null,
       "grid_row": null,
       "grid_template_areas": null,
       "grid_template_columns": null,
       "grid_template_rows": null,
       "height": null,
       "justify_content": null,
       "justify_items": null,
       "left": null,
       "margin": null,
       "max_height": null,
       "max_width": null,
       "min_height": null,
       "min_width": null,
       "object_fit": null,
       "object_position": null,
       "order": null,
       "overflow": null,
       "overflow_x": null,
       "overflow_y": null,
       "padding": null,
       "right": null,
       "top": null,
       "visibility": null,
       "width": null
      }
     },
     "bc8edc4cd3014ea881da47e0de3b5055": {
      "model_module": "@jupyter-widgets/controls",
      "model_module_version": "1.5.0",
      "model_name": "HTMLModel",
      "state": {
       "_dom_classes": [],
       "_model_module": "@jupyter-widgets/controls",
       "_model_module_version": "1.5.0",
       "_model_name": "HTMLModel",
       "_view_count": null,
       "_view_module": "@jupyter-widgets/controls",
       "_view_module_version": "1.5.0",
       "_view_name": "HTMLView",
       "description": "",
       "description_tooltip": null,
       "layout": "IPY_MODEL_cdfcafe771dd4d2eb1e54447a13f14de",
       "placeholder": "​",
       "style": "IPY_MODEL_9a30af4fcaba40cdb9003e8a1266af9f",
       "value": " 42/42 [00:52&lt;00:00,  1.18it/s]"
      }
     },
     "bc947908257b44c8b0ee61c16a9ef600": {
      "model_module": "@jupyter-widgets/controls",
      "model_module_version": "1.5.0",
      "model_name": "HTMLModel",
      "state": {
       "_dom_classes": [],
       "_model_module": "@jupyter-widgets/controls",
       "_model_module_version": "1.5.0",
       "_model_name": "HTMLModel",
       "_view_count": null,
       "_view_module": "@jupyter-widgets/controls",
       "_view_module_version": "1.5.0",
       "_view_name": "HTMLView",
       "description": "",
       "description_tooltip": null,
       "layout": "IPY_MODEL_e6c0496114c44433aaceda7e4843f847",
       "placeholder": "​",
       "style": "IPY_MODEL_bd01d16a2ebe4aef8b2993e63ada67fb",
       "value": " 3/3 [00:00&lt;00:00, 93.10it/s]"
      }
     },
     "bd01d16a2ebe4aef8b2993e63ada67fb": {
      "model_module": "@jupyter-widgets/controls",
      "model_module_version": "1.5.0",
      "model_name": "DescriptionStyleModel",
      "state": {
       "_model_module": "@jupyter-widgets/controls",
       "_model_module_version": "1.5.0",
       "_model_name": "DescriptionStyleModel",
       "_view_count": null,
       "_view_module": "@jupyter-widgets/base",
       "_view_module_version": "1.2.0",
       "_view_name": "StyleView",
       "description_width": ""
      }
     },
     "c663719ec0ed446cb20da96bca9f3016": {
      "model_module": "@jupyter-widgets/controls",
      "model_module_version": "1.5.0",
      "model_name": "HTMLModel",
      "state": {
       "_dom_classes": [],
       "_model_module": "@jupyter-widgets/controls",
       "_model_module_version": "1.5.0",
       "_model_name": "HTMLModel",
       "_view_count": null,
       "_view_module": "@jupyter-widgets/controls",
       "_view_module_version": "1.5.0",
       "_view_name": "HTMLView",
       "description": "",
       "description_tooltip": null,
       "layout": "IPY_MODEL_ce5c78c17feb477fa11073531c5707b4",
       "placeholder": "​",
       "style": "IPY_MODEL_e2caf126d64d48aeb1e0ab4ee4378f06",
       "value": " 3/3 [00:00&lt;00:00, 58.86it/s]"
      }
     },
     "c8baee96a676489e9893e94d80ab407c": {
      "model_module": "@jupyter-widgets/controls",
      "model_module_version": "1.5.0",
      "model_name": "ProgressStyleModel",
      "state": {
       "_model_module": "@jupyter-widgets/controls",
       "_model_module_version": "1.5.0",
       "_model_name": "ProgressStyleModel",
       "_view_count": null,
       "_view_module": "@jupyter-widgets/base",
       "_view_module_version": "1.2.0",
       "_view_name": "StyleView",
       "bar_color": null,
       "description_width": ""
      }
     },
     "cdfcafe771dd4d2eb1e54447a13f14de": {
      "model_module": "@jupyter-widgets/base",
      "model_module_version": "1.2.0",
      "model_name": "LayoutModel",
      "state": {
       "_model_module": "@jupyter-widgets/base",
       "_model_module_version": "1.2.0",
       "_model_name": "LayoutModel",
       "_view_count": null,
       "_view_module": "@jupyter-widgets/base",
       "_view_module_version": "1.2.0",
       "_view_name": "LayoutView",
       "align_content": null,
       "align_items": null,
       "align_self": null,
       "border": null,
       "bottom": null,
       "display": null,
       "flex": null,
       "flex_flow": null,
       "grid_area": null,
       "grid_auto_columns": null,
       "grid_auto_flow": null,
       "grid_auto_rows": null,
       "grid_column": null,
       "grid_gap": null,
       "grid_row": null,
       "grid_template_areas": null,
       "grid_template_columns": null,
       "grid_template_rows": null,
       "height": null,
       "justify_content": null,
       "justify_items": null,
       "left": null,
       "margin": null,
       "max_height": null,
       "max_width": null,
       "min_height": null,
       "min_width": null,
       "object_fit": null,
       "object_position": null,
       "order": null,
       "overflow": null,
       "overflow_x": null,
       "overflow_y": null,
       "padding": null,
       "right": null,
       "top": null,
       "visibility": null,
       "width": null
      }
     },
     "ce5c78c17feb477fa11073531c5707b4": {
      "model_module": "@jupyter-widgets/base",
      "model_module_version": "1.2.0",
      "model_name": "LayoutModel",
      "state": {
       "_model_module": "@jupyter-widgets/base",
       "_model_module_version": "1.2.0",
       "_model_name": "LayoutModel",
       "_view_count": null,
       "_view_module": "@jupyter-widgets/base",
       "_view_module_version": "1.2.0",
       "_view_name": "LayoutView",
       "align_content": null,
       "align_items": null,
       "align_self": null,
       "border": null,
       "bottom": null,
       "display": null,
       "flex": null,
       "flex_flow": null,
       "grid_area": null,
       "grid_auto_columns": null,
       "grid_auto_flow": null,
       "grid_auto_rows": null,
       "grid_column": null,
       "grid_gap": null,
       "grid_row": null,
       "grid_template_areas": null,
       "grid_template_columns": null,
       "grid_template_rows": null,
       "height": null,
       "justify_content": null,
       "justify_items": null,
       "left": null,
       "margin": null,
       "max_height": null,
       "max_width": null,
       "min_height": null,
       "min_width": null,
       "object_fit": null,
       "object_position": null,
       "order": null,
       "overflow": null,
       "overflow_x": null,
       "overflow_y": null,
       "padding": null,
       "right": null,
       "top": null,
       "visibility": null,
       "width": null
      }
     },
     "ce7eed7bbc254c21a221be286edc4bba": {
      "model_module": "@jupyter-widgets/controls",
      "model_module_version": "1.5.0",
      "model_name": "DescriptionStyleModel",
      "state": {
       "_model_module": "@jupyter-widgets/controls",
       "_model_module_version": "1.5.0",
       "_model_name": "DescriptionStyleModel",
       "_view_count": null,
       "_view_module": "@jupyter-widgets/base",
       "_view_module_version": "1.2.0",
       "_view_name": "StyleView",
       "description_width": ""
      }
     },
     "cf49a42d65ee4fea945ade284e25588e": {
      "model_module": "@jupyter-widgets/controls",
      "model_module_version": "1.5.0",
      "model_name": "HTMLModel",
      "state": {
       "_dom_classes": [],
       "_model_module": "@jupyter-widgets/controls",
       "_model_module_version": "1.5.0",
       "_model_name": "HTMLModel",
       "_view_count": null,
       "_view_module": "@jupyter-widgets/controls",
       "_view_module_version": "1.5.0",
       "_view_name": "HTMLView",
       "description": "",
       "description_tooltip": null,
       "layout": "IPY_MODEL_ba898178ad1d491995e6e32e948cbe87",
       "placeholder": "​",
       "style": "IPY_MODEL_5fdae5c4bead44cfa09f3d3b2e7eadb4",
       "value": "100%"
      }
     },
     "d8891dd70c824b088a4be499dc821eb2": {
      "model_module": "@jupyter-widgets/base",
      "model_module_version": "1.2.0",
      "model_name": "LayoutModel",
      "state": {
       "_model_module": "@jupyter-widgets/base",
       "_model_module_version": "1.2.0",
       "_model_name": "LayoutModel",
       "_view_count": null,
       "_view_module": "@jupyter-widgets/base",
       "_view_module_version": "1.2.0",
       "_view_name": "LayoutView",
       "align_content": null,
       "align_items": null,
       "align_self": null,
       "border": null,
       "bottom": null,
       "display": null,
       "flex": null,
       "flex_flow": null,
       "grid_area": null,
       "grid_auto_columns": null,
       "grid_auto_flow": null,
       "grid_auto_rows": null,
       "grid_column": null,
       "grid_gap": null,
       "grid_row": null,
       "grid_template_areas": null,
       "grid_template_columns": null,
       "grid_template_rows": null,
       "height": null,
       "justify_content": null,
       "justify_items": null,
       "left": null,
       "margin": null,
       "max_height": null,
       "max_width": null,
       "min_height": null,
       "min_width": null,
       "object_fit": null,
       "object_position": null,
       "order": null,
       "overflow": null,
       "overflow_x": null,
       "overflow_y": null,
       "padding": null,
       "right": null,
       "top": null,
       "visibility": null,
       "width": null
      }
     },
     "e2caf126d64d48aeb1e0ab4ee4378f06": {
      "model_module": "@jupyter-widgets/controls",
      "model_module_version": "1.5.0",
      "model_name": "DescriptionStyleModel",
      "state": {
       "_model_module": "@jupyter-widgets/controls",
       "_model_module_version": "1.5.0",
       "_model_name": "DescriptionStyleModel",
       "_view_count": null,
       "_view_module": "@jupyter-widgets/base",
       "_view_module_version": "1.2.0",
       "_view_name": "StyleView",
       "description_width": ""
      }
     },
     "e6c0496114c44433aaceda7e4843f847": {
      "model_module": "@jupyter-widgets/base",
      "model_module_version": "1.2.0",
      "model_name": "LayoutModel",
      "state": {
       "_model_module": "@jupyter-widgets/base",
       "_model_module_version": "1.2.0",
       "_model_name": "LayoutModel",
       "_view_count": null,
       "_view_module": "@jupyter-widgets/base",
       "_view_module_version": "1.2.0",
       "_view_name": "LayoutView",
       "align_content": null,
       "align_items": null,
       "align_self": null,
       "border": null,
       "bottom": null,
       "display": null,
       "flex": null,
       "flex_flow": null,
       "grid_area": null,
       "grid_auto_columns": null,
       "grid_auto_flow": null,
       "grid_auto_rows": null,
       "grid_column": null,
       "grid_gap": null,
       "grid_row": null,
       "grid_template_areas": null,
       "grid_template_columns": null,
       "grid_template_rows": null,
       "height": null,
       "justify_content": null,
       "justify_items": null,
       "left": null,
       "margin": null,
       "max_height": null,
       "max_width": null,
       "min_height": null,
       "min_width": null,
       "object_fit": null,
       "object_position": null,
       "order": null,
       "overflow": null,
       "overflow_x": null,
       "overflow_y": null,
       "padding": null,
       "right": null,
       "top": null,
       "visibility": null,
       "width": null
      }
     },
     "eb8e2f74a5e84dafbbf124cfd7d0a6e2": {
      "model_module": "@jupyter-widgets/controls",
      "model_module_version": "1.5.0",
      "model_name": "DescriptionStyleModel",
      "state": {
       "_model_module": "@jupyter-widgets/controls",
       "_model_module_version": "1.5.0",
       "_model_name": "DescriptionStyleModel",
       "_view_count": null,
       "_view_module": "@jupyter-widgets/base",
       "_view_module_version": "1.2.0",
       "_view_name": "StyleView",
       "description_width": ""
      }
     },
     "ef56439046964ba2892c89ef3387046c": {
      "model_module": "@jupyter-widgets/controls",
      "model_module_version": "1.5.0",
      "model_name": "ProgressStyleModel",
      "state": {
       "_model_module": "@jupyter-widgets/controls",
       "_model_module_version": "1.5.0",
       "_model_name": "ProgressStyleModel",
       "_view_count": null,
       "_view_module": "@jupyter-widgets/base",
       "_view_module_version": "1.2.0",
       "_view_name": "StyleView",
       "bar_color": null,
       "description_width": ""
      }
     },
     "f02e8afd9d9c4b2094d405644065d635": {
      "model_module": "@jupyter-widgets/controls",
      "model_module_version": "1.5.0",
      "model_name": "HBoxModel",
      "state": {
       "_dom_classes": [],
       "_model_module": "@jupyter-widgets/controls",
       "_model_module_version": "1.5.0",
       "_model_name": "HBoxModel",
       "_view_count": null,
       "_view_module": "@jupyter-widgets/controls",
       "_view_module_version": "1.5.0",
       "_view_name": "HBoxView",
       "box_style": "",
       "children": [
        "IPY_MODEL_cf49a42d65ee4fea945ade284e25588e",
        "IPY_MODEL_9039eed083b34abb9402fb2e611965da",
        "IPY_MODEL_8368a3c325a7411c87be9c1630a6f8e8"
       ],
       "layout": "IPY_MODEL_7db147e4691140209114e5f43615cf24"
      }
     },
     "fb2028f454e347ac9b0ee85d7958a884": {
      "model_module": "@jupyter-widgets/controls",
      "model_module_version": "1.5.0",
      "model_name": "HTMLModel",
      "state": {
       "_dom_classes": [],
       "_model_module": "@jupyter-widgets/controls",
       "_model_module_version": "1.5.0",
       "_model_name": "HTMLModel",
       "_view_count": null,
       "_view_module": "@jupyter-widgets/controls",
       "_view_module_version": "1.5.0",
       "_view_name": "HTMLView",
       "description": "",
       "description_tooltip": null,
       "layout": "IPY_MODEL_4113da8d8341441c87ce0b45da93291a",
       "placeholder": "​",
       "style": "IPY_MODEL_18eecf5458bd41b0b395b0912fbb4455",
       "value": "100%"
      }
     }
    },
    "version_major": 2,
    "version_minor": 0
   }
  }
 },
 "nbformat": 4,
 "nbformat_minor": 5
}
